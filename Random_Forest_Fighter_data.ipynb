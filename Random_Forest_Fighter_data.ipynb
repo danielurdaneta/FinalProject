{
 "cells": [
  {
   "cell_type": "code",
   "execution_count": null,
   "id": "1ed091c5",
   "metadata": {},
   "outputs": [],
   "source": [
    "# Initial imports\n",
    "import pandas as pd\n",
    "from path import Path\n",
    "from sklearn.ensemble import RandomForestClassifier\n",
    "from sklearn.preprocessing import StandardScaler\n",
    "from sklearn.model_selection import train_test_split\n",
    "from sklearn.metrics import confusion_matrix, accuracy_score, classification_report"
   ]
  },
  {
   "cell_type": "code",
   "execution_count": null,
   "id": "bcc17bbb",
   "metadata": {},
   "outputs": [],
   "source": [
    "#import dataset\n",
    "fighter_data=pd.read_csv(\"../testrepo_08302021/individual_fighter_clean_data.csv\")\n",
    "fighter_data.head()"
   ]
  },
  {
   "cell_type": "code",
   "execution_count": null,
   "id": "8b767bf4",
   "metadata": {},
   "outputs": [],
   "source": [
    "fighter_data=fighter_data.drop(['Unnamed: 0'], axis=1)"
   ]
  },
  {
   "cell_type": "code",
   "execution_count": null,
   "id": "944839c4",
   "metadata": {},
   "outputs": [],
   "source": [
    "X=fighter_data.drop(['Win'], axis=1)\n",
    "y=fighter_data.Win"
   ]
  },
  {
   "cell_type": "code",
   "execution_count": null,
   "id": "33f2effc",
   "metadata": {},
   "outputs": [],
   "source": [
    "# Splitting into Train and Test sets.\n",
    "X_train, X_test, y_train, y_test = train_test_split(X, y, random_state=78)"
   ]
  },
  {
   "cell_type": "code",
   "execution_count": null,
   "id": "55da30bc",
   "metadata": {},
   "outputs": [],
   "source": [
    "# Creating a StandardScaler instance.\n",
    "scaler = StandardScaler()\n",
    "# Fitting the Standard Scaler with the training data.\n",
    "X_scaler = scaler.fit(X_train)\n",
    "\n",
    "# Scaling the data.\n",
    "X_train_scaled = X_scaler.transform(X_train)\n",
    "X_test_scaled = X_scaler.transform(X_test)"
   ]
  },
  {
   "cell_type": "code",
   "execution_count": null,
   "id": "55d68bb7",
   "metadata": {},
   "outputs": [],
   "source": [
    "# Create a random forest classifier.\n",
    "#n_estimator should be btwn 64 and 128 random forests\n",
    "rf_model = RandomForestClassifier(n_estimators=128, random_state=78) "
   ]
  },
  {
   "cell_type": "code",
   "execution_count": null,
   "id": "19f08ee7",
   "metadata": {},
   "outputs": [],
   "source": [
    "# Fitting the model\n",
    "rf_model = rf_model.fit(X_train_scaled, y_train)"
   ]
  },
  {
   "cell_type": "code",
   "execution_count": null,
   "id": "342bbd9c",
   "metadata": {},
   "outputs": [],
   "source": [
    "# Making predictions using the testing data.\n",
    "predictions = rf_model.predict(X_test_scaled)"
   ]
  },
  {
   "cell_type": "code",
   "execution_count": null,
   "id": "b5904862",
   "metadata": {},
   "outputs": [],
   "source": [
    "# Calculating the confusion matrix.\n",
    "cm = confusion_matrix(y_test, predictions)\n",
    "\n",
    "# Create a DataFrame from the confusion matrix.\n",
    "cm_df = pd.DataFrame(\n",
    "    cm, index=[\"Actual 0\", \"Actual 1\"], columns=[\"Predicted 0\", \"Predicted 1\"])\n",
    "\n",
    "cm_df"
   ]
  },
  {
   "cell_type": "markdown",
   "id": "b891d483",
   "metadata": {},
   "source": [
    "true positives = 15, \n",
    "true negatives = 16,\n",
    "false positive = 11,\n",
    "false negative = 15"
   ]
  },
  {
   "cell_type": "code",
   "execution_count": null,
   "id": "106d1428",
   "metadata": {},
   "outputs": [],
   "source": [
    "# Calculating the accuracy score.\n",
    "acc_score = accuracy_score(y_test, predictions)\n",
    "display(cm_df)\n",
    "print(f\"Accuracy Score : {acc_score}\")\n",
    "print(\"Classification Report\")\n",
    "print(classification_report(y_test, predictions))"
   ]
  },
  {
   "cell_type": "code",
   "execution_count": null,
   "id": "d8c61ddd",
   "metadata": {},
   "outputs": [],
   "source": [
    "# Calculate feature importance in the Random Forest model.\n",
    "importances = rf_model.feature_importances_\n",
    "importances"
   ]
  },
  {
   "cell_type": "code",
   "execution_count": null,
   "id": "1847ad14",
   "metadata": {},
   "outputs": [],
   "source": [
    "sorted(zip(rf_model.feature_importances_, X.columns), reverse=True)"
   ]
  },
  {
   "cell_type": "code",
   "execution_count": null,
   "id": "a9f32e07",
   "metadata": {},
   "outputs": [],
   "source": [
    "fighter_data.columns"
   ]
  },
  {
   "cell_type": "code",
   "execution_count": null,
   "id": "59bf0e44",
   "metadata": {},
   "outputs": [],
   "source": [
    "fighter_historical=fighter_data.drop(['avg_KD', 'avg_opp_KD', 'avg_SIG_STR_pct', 'avg_opp_SIG_STR_pct',\n",
    "       'avg_TD_pct', 'avg_opp_TD_pct', 'avg_SUB_ATT', 'avg_opp_SUB_ATT',\n",
    "       'avg_REV', 'avg_opp_REV', 'avg_SIG_STR_att', 'avg_SIG_STR_landed',\n",
    "       'avg_opp_SIG_STR_att', 'avg_opp_SIG_STR_landed', 'avg_TOTAL_STR_att',\n",
    "       'avg_TOTAL_STR_landed', 'avg_opp_TOTAL_STR_att',\n",
    "       'avg_opp_TOTAL_STR_landed', 'avg_TD_att', 'avg_TD_landed',\n",
    "       'avg_opp_TD_att', 'avg_opp_TD_landed', 'avg_HEAD_att',\n",
    "       'avg_HEAD_landed', 'avg_opp_HEAD_att', 'avg_opp_HEAD_landed',\n",
    "       'avg_BODY_att', 'avg_BODY_landed', 'avg_opp_BODY_att',\n",
    "       'avg_opp_BODY_landed', 'avg_LEG_att', 'avg_LEG_landed',\n",
    "       'avg_opp_LEG_att', 'avg_opp_LEG_landed', 'avg_DISTANCE_att',\n",
    "       'avg_DISTANCE_landed', 'avg_opp_DISTANCE_att',\n",
    "       'avg_opp_DISTANCE_landed', 'avg_CLINCH_att', 'avg_CLINCH_landed',\n",
    "       'avg_opp_CLINCH_att', 'avg_opp_CLINCH_landed', 'avg_GROUND_att',\n",
    "       'avg_GROUND_landed', 'avg_opp_GROUND_att', 'avg_opp_GROUND_landed',\n",
    "       'avg_CTRL_time(seconds)', 'avg_opp_CTRL_time(seconds)'], axis=1)\n",
    "fighter_historical"
   ]
  },
  {
   "cell_type": "code",
   "execution_count": null,
   "id": "4ef44e0b",
   "metadata": {},
   "outputs": [],
   "source": [
    "X_2=fighter_historical.drop(['Win'], axis=1)\n",
    "y_2=fighter_historical.Win"
   ]
  },
  {
   "cell_type": "code",
   "execution_count": null,
   "id": "ac834f07",
   "metadata": {},
   "outputs": [],
   "source": [
    "# Splitting into Train and Test sets.\n",
    "X_train, X_test, y_train, y_test = train_test_split(X_2, y_2, random_state=78)"
   ]
  },
  {
   "cell_type": "code",
   "execution_count": null,
   "id": "bf85347c",
   "metadata": {},
   "outputs": [],
   "source": [
    "# Creating a StandardScaler instance.\n",
    "scaler = StandardScaler()\n",
    "# Fitting the Standard Scaler with the training data.\n",
    "X_scaler = scaler.fit(X_train)\n",
    "\n",
    "# Scaling the data.\n",
    "X_train_scaled = X_scaler.transform(X_train)\n",
    "X_test_scaled = X_scaler.transform(X_test)"
   ]
  },
  {
   "cell_type": "code",
   "execution_count": null,
   "id": "afa4eb51",
   "metadata": {},
   "outputs": [],
   "source": [
    "# Create a random forest classifier.\n",
    "#n_estimator should be btwn 64 and 128 random forests\n",
    "rf_model = RandomForestClassifier(n_estimators=128, random_state=78)"
   ]
  },
  {
   "cell_type": "code",
   "execution_count": null,
   "id": "72684a5a",
   "metadata": {},
   "outputs": [],
   "source": [
    "# Fitting the model\n",
    "rf_model = rf_model.fit(X_train_scaled, y_train)"
   ]
  },
  {
   "cell_type": "code",
   "execution_count": null,
   "id": "5656be48",
   "metadata": {},
   "outputs": [],
   "source": [
    "# Making predictions using the testing data.\n",
    "predictions = rf_model.predict(X_test_scaled)"
   ]
  },
  {
   "cell_type": "code",
   "execution_count": null,
   "id": "52475c45",
   "metadata": {},
   "outputs": [],
   "source": [
    "# Calculating the confusion matrix.\n",
    "cm = confusion_matrix(y_test, predictions)\n",
    "\n",
    "# Create a DataFrame from the confusion matrix.\n",
    "cm_df = pd.DataFrame(\n",
    "    cm, index=[\"Actual 0\", \"Actual 1\"], columns=[\"Predicted 0\", \"Predicted 1\"])\n",
    "\n",
    "cm_df"
   ]
  },
  {
   "cell_type": "code",
   "execution_count": null,
   "id": "ee70c677",
   "metadata": {},
   "outputs": [],
   "source": [
    "# Calculating the accuracy score.\n",
    "acc_score = accuracy_score(y_test, predictions)\n",
    "display(cm_df)\n",
    "print(f\"Accuracy Score : {acc_score}\")\n",
    "print(\"Classification Report\")\n",
    "print(classification_report(y_test, predictions))"
   ]
  },
  {
   "cell_type": "code",
   "execution_count": null,
   "id": "bf7bb82c",
   "metadata": {},
   "outputs": [],
   "source": [
    "# Calculate feature importance in the Random Forest model.\n",
    "importances = rf_model.feature_importances_\n",
    "importances"
   ]
  },
  {
   "cell_type": "code",
   "execution_count": null,
   "id": "3d23cb83",
   "metadata": {},
   "outputs": [],
   "source": [
    "sorted(zip(rf_model.feature_importances_, X.columns), reverse=True)"
   ]
  }
 ],
 "metadata": {
  "kernelspec": {
   "display_name": "mlenv",
   "language": "python",
   "name": "mlenv"
  },
  "language_info": {
   "codemirror_mode": {
    "name": "ipython",
    "version": 3
   },
   "file_extension": ".py",
   "mimetype": "text/x-python",
   "name": "python",
   "nbconvert_exporter": "python",
   "pygments_lexer": "ipython3",
   "version": "3.7.10"
  }
 },
 "nbformat": 4,
 "nbformat_minor": 5
}
