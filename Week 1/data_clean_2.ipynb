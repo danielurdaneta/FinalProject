{
 "cells": [
  {
   "cell_type": "code",
   "execution_count": null,
   "id": "433f75f3",
   "metadata": {},
   "outputs": [],
   "source": [
    "# Import our dependencies\n",
    "import pandas as pd\n",
    "import sklearn as skl\n",
    "from sklearn.model_selection import train_test_split\n",
    "from sklearn.preprocessing import StandardScaler,OneHotEncoder, LabelEncoder\n",
    "import tensorflow as tf"
   ]
  },
  {
   "cell_type": "code",
   "execution_count": null,
   "id": "b0967e0d",
   "metadata": {},
   "outputs": [],
   "source": [
    "# Read in our raw data\n",
    "data_df = pd.read_csv(\"data.csv\")\n",
    "data_df"
   ]
  },
  {
   "cell_type": "code",
   "execution_count": null,
   "id": "769d052a",
   "metadata": {},
   "outputs": [],
   "source": [
    "#Filter by welterweight weight class\n",
    "welter_df = data_df[data_df[\"weight_class\"]==\"Welterweight\"]\n",
    "welter_df"
   ]
  },
  {
   "cell_type": "code",
   "execution_count": null,
   "id": "a39e091a",
   "metadata": {},
   "outputs": [],
   "source": [
    "#Drop columns that are irrelevant\n",
    "welter_df = welter_df.drop([\"location\"], axis = 1)\n",
    "welter_df = welter_df.drop([\"Referee\"], axis = 1)\n",
    "welter_df = welter_df.drop([\"weight_class\"], axis = 1)\n",
    "welter_df = welter_df.drop([\"title_bout\"], axis = 1)\n",
    "welter_df"
   ]
  },
  {
   "cell_type": "code",
   "execution_count": null,
   "id": "529bdb87",
   "metadata": {},
   "outputs": [],
   "source": [
    "from sklearn.preprocessing import OneHotEncoder\n",
    "enc = OneHotEncoder(sparse=False)\n",
    "\n",
    "# Fit the encoder and produce encoded DataFrame\n",
    "encode_df = pd.DataFrame(enc.fit_transform(welter_df.R_Stance.values.reshape(-1,1)))\n",
    "\n",
    "# Rename encoded columns\n",
    "encode_df.columns = enc.get_feature_names(['R_Stance'])\n",
    "encode_df"
   ]
  },
  {
   "cell_type": "code",
   "execution_count": null,
   "id": "3c6dc3a2",
   "metadata": {},
   "outputs": [],
   "source": [
    "# Create the OneHotEncoder instance\n",
    "enc = OneHotEncoder(sparse=False)\n",
    "\n",
    "# Fit the encoder and produce encoded DataFrame\n",
    "B_stance_df = pd.DataFrame(enc.fit_transform(welter_df.B_Stance.values.reshape(-1,1)))\n",
    "\n",
    "# Rename encoded columns\n",
    "B_stance_df.columns = enc.get_feature_names(['B_Stance'])\n",
    "B_stance_df"
   ]
  },
  {
   "cell_type": "code",
   "execution_count": null,
   "id": "c39e2b60",
   "metadata": {},
   "outputs": [],
   "source": [
    "#LabelEncode the winner column\n",
    "le = LabelEncoder()\n",
    "winner_df['Winner'] = le.fit_transform(welter_df['Winner']) \n",
    "winner_df.head()"
   ]
  },
  {
   "cell_type": "code",
   "execution_count": null,
   "id": "4c09a437",
   "metadata": {},
   "outputs": [],
   "source": [
    "#Merge experiment\n",
    "merged_df=welter_df.join(encode_df)\n",
    "merged_df2=merged_df.join(B_stance_df)\n",
    "merged_df2['Winner'] = winner_df['Winner']\n",
    "\n",
    "merged_df2\n"
   ]
  },
  {
   "cell_type": "code",
   "execution_count": null,
   "id": "8268cd01",
   "metadata": {},
   "outputs": [],
   "source": [
    "merged_df2.columns"
   ]
  },
  {
   "cell_type": "code",
   "execution_count": null,
   "id": "8d5108c0",
   "metadata": {},
   "outputs": [],
   "source": [
    "#Drop original rows for Winner / Rstance / Bstance\n",
    "merged_df2 = merged_df2.drop([\"R_Stance\"], axis = 1)\n",
    "merged_df2 = merged_df2.drop([\"B_Stance\"], axis = 1)\n",
    "merged_df2"
   ]
  },
  {
   "cell_type": "code",
   "execution_count": null,
   "id": "7f0fa100",
   "metadata": {},
   "outputs": [],
   "source": [
    "#Get rid of NaNs & drop columns that are not needed\n",
    "merged_df2.dropna(inplace=True)\n",
    "merged_df2 = merged_df2.drop(['B_avg_KD','B_avg_opp_KD','B_avg_SIG_STR_pct','B_avg_opp_SIG_STR_pct','B_avg_TD_pct','B_avg_opp_TD_pct','B_avg_SUB_ATT','B_avg_opp_SUB_ATT','B_avg_REV','B_avg_opp_REV','B_avg_SIG_STR_att','B_avg_SIG_STR_landed','B_avg_opp_SIG_STR_att','B_avg_opp_SIG_STR_landed','B_avg_TOTAL_STR_att','B_avg_TOTAL_STR_landed','B_avg_opp_TOTAL_STR_att','B_avg_opp_TOTAL_STR_landed','B_avg_TD_att','B_avg_TD_landed','B_avg_opp_TD_att','B_avg_opp_TD_landed','B_avg_HEAD_att','B_avg_HEAD_landed','B_avg_opp_HEAD_att','B_avg_opp_HEAD_landed','B_avg_BODY_att','B_avg_BODY_landed','B_avg_opp_BODY_att','B_avg_opp_BODY_landed','B_avg_LEG_att','B_avg_LEG_landed','B_avg_opp_LEG_att','B_avg_opp_LEG_landed','B_avg_DISTANCE_att','B_avg_DISTANCE_landed','B_avg_opp_DISTANCE_att','B_avg_opp_DISTANCE_landed','B_avg_CLINCH_att','B_avg_CLINCH_landed','B_avg_opp_CLINCH_att','B_avg_opp_CLINCH_landed','B_avg_GROUND_att','B_avg_GROUND_landed','B_avg_opp_GROUND_att','B_avg_opp_GROUND_landed','B_avg_CTRL_time(seconds)','B_avg_opp_CTRL_time(seconds)','R_avg_KD','R_avg_opp_KD','R_avg_SIG_STR_pct','R_avg_opp_SIG_STR_pct','R_avg_TD_pct','R_avg_opp_TD_pct','R_avg_SUB_ATT','R_avg_opp_SUB_ATT','R_avg_REV','R_avg_opp_REV','R_avg_SIG_STR_att','R_avg_SIG_STR_landed','R_avg_opp_SIG_STR_att','R_avg_opp_SIG_STR_landed','R_avg_TOTAL_STR_att','R_avg_TOTAL_STR_landed','R_avg_opp_TOTAL_STR_att','R_avg_opp_TOTAL_STR_landed','R_avg_TD_att','R_avg_TD_landed','R_avg_opp_TD_att','R_avg_opp_TD_landed','R_avg_HEAD_att','R_avg_HEAD_landed','R_avg_opp_HEAD_att','R_avg_opp_HEAD_landed','R_avg_BODY_att','R_avg_BODY_landed','R_avg_opp_BODY_att','R_avg_opp_BODY_landed','R_avg_LEG_att','R_avg_LEG_landed','R_avg_opp_LEG_att','R_avg_opp_LEG_landed','R_avg_DISTANCE_att','R_avg_DISTANCE_landed','R_avg_opp_DISTANCE_att','R_avg_opp_DISTANCE_landed','R_avg_CLINCH_att','R_avg_CLINCH_landed','R_avg_opp_CLINCH_att','R_avg_opp_CLINCH_landed','R_avg_GROUND_att','R_avg_GROUND_landed','R_avg_opp_GROUND_att','R_avg_opp_GROUND_landed','R_avg_CTRL_time(seconds)','R_avg_opp_CTRL_time(seconds)'], axis = 1)\n",
    "merged_df2"
   ]
  },
  {
   "cell_type": "code",
   "execution_count": null,
   "id": "bbc54303",
   "metadata": {},
   "outputs": [],
   "source": [
    "#change date to datetime\n",
    "merged_df2['date'] = merged_df2['date'].apply(pd.to_datetime)\n",
    "merged_df2.head()"
   ]
  },
  {
   "cell_type": "code",
   "execution_count": null,
   "id": "0e118a13",
   "metadata": {},
   "outputs": [],
   "source": [
    "#Save as .csv\n",
    "merged_df2.to_csv(\"WW_clean_data_labelEncoded_Winner.csv\")"
   ]
  },
  {
   "cell_type": "code",
   "execution_count": null,
   "id": "c588e798",
   "metadata": {},
   "outputs": [],
   "source": [
    "#check dtypes\n",
    "merged_df2.dtypes"
   ]
  },
  {
   "cell_type": "code",
   "execution_count": null,
   "id": "0d48fdec",
   "metadata": {},
   "outputs": [],
   "source": [
    "#Sort by maximum total rounds fought with two dfs\n",
    "r_fighters_df= merged_df2.sort_values(by='R_total_rounds_fought', ascending=False)\n",
    "b_fighters_df= merged_df2.sort_values(by='B_total_rounds_fought', ascending=False)\n",
    "b_fighters_df"
   ]
  },
  {
   "cell_type": "code",
   "execution_count": null,
   "id": "410dee63",
   "metadata": {},
   "outputs": [],
   "source": [
    "#Delete duplicates in r_fighters & b_fighters\n",
    "r_fighters_df = r_fighters_df.drop_duplicates(subset = \"R_fighter\", keep = \"first\")\n",
    "b_fighters_df = b_fighters_df.drop_duplicates(subset = \"B_fighter\", keep = \"first\")\n",
    "b_fighters_df"
   ]
  },
  {
   "cell_type": "code",
   "execution_count": null,
   "id": "49f725ce",
   "metadata": {},
   "outputs": [],
   "source": [
    "#merge both dfs\n",
    "frames = [r_fighters_df,b_fighters_df]\n",
    "fighters_df = pd.concat(frames)\n",
    "fighters_df"
   ]
  },
  {
   "cell_type": "code",
   "execution_count": null,
   "id": "098bb5cd",
   "metadata": {},
   "outputs": [],
   "source": [
    "#drop duplicates based on time fought\n",
    "fighters_df = fighters_df.drop_duplicates(subset = 'B_total_time_fought(seconds)', keep = 'first')"
   ]
  },
  {
   "cell_type": "code",
   "execution_count": null,
   "id": "01d8293f",
   "metadata": {},
   "outputs": [],
   "source": [
    "#Export as csv\n",
    "fighters_df.to_csv(\"fighters_clean.csv\")\n"
   ]
  },
  {
   "cell_type": "code",
   "execution_count": null,
   "id": "d9f3abfd",
   "metadata": {},
   "outputs": [],
   "source": [
    "#Filter by welterweight weight class\n",
    "lightweight_df = data_df[data_df[\"weight_class\"]==\"Lightweight\"]\n",
    "lightweight_df"
   ]
  },
  {
   "cell_type": "code",
   "execution_count": null,
   "id": "2601d576",
   "metadata": {},
   "outputs": [],
   "source": [
    "#Drop columns that are irrelevant\n",
    "lightweight_df = lightweight_df.drop([\"location\"], axis = 1)\n",
    "lightweight_df = lightweight_df.drop([\"Referee\"], axis = 1)\n",
    "lightweight_df = lightweight_df.drop([\"weight_class\"], axis = 1)\n",
    "lightweight_df = lightweight_df.drop([\"title_bout\"], axis = 1)\n",
    "lightweight_df"
   ]
  },
  {
   "cell_type": "code",
   "execution_count": null,
   "id": "3288fb27",
   "metadata": {},
   "outputs": [],
   "source": [
    "from sklearn.preprocessing import OneHotEncoder\n",
    "enc = OneHotEncoder(sparse=False)\n",
    "\n",
    "# Fit the encoder and produce encoded DataFrame\n",
    "encode_df = pd.DataFrame(enc.fit_transform(lightweight_df.R_Stance.values.reshape(-1,1)))\n",
    "\n",
    "# Rename encoded columns\n",
    "encode_df.columns = enc.get_feature_names(['R_Stance'])\n",
    "encode_df"
   ]
  },
  {
   "cell_type": "code",
   "execution_count": null,
   "id": "fe29bdd6",
   "metadata": {},
   "outputs": [],
   "source": [
    "# Create the OneHotEncoder instance\n",
    "enc = OneHotEncoder(sparse=False)\n",
    "\n",
    "# Fit the encoder and produce encoded DataFrame\n",
    "B_stance_df = pd.DataFrame(enc.fit_transform(lightweight_df.B_Stance.values.reshape(-1,1)))\n",
    "\n",
    "# Rename encoded columns\n",
    "B_stance_df.columns = enc.get_feature_names(['B_Stance'])\n",
    "B_stance_df"
   ]
  },
  {
   "cell_type": "code",
   "execution_count": null,
   "id": "164df925",
   "metadata": {},
   "outputs": [],
   "source": [
    "# Create the OneHotEncoder instance\n",
    "enc = OneHotEncoder(sparse=False)\n",
    "\n",
    "# Fit the encoder and produce encoded DataFrame\n",
    "lwwinner_df = pd.DataFrame(enc.fit_transform(lightweight_df.Winner.values.reshape(-1,1)))\n",
    "\n",
    "# Rename encoded columns\n",
    "lwwinner_df.columns = enc.get_feature_names(['Winner'])\n",
    "lwwinner_df"
   ]
  },
  {
   "cell_type": "code",
   "execution_count": null,
   "id": "768047b5",
   "metadata": {},
   "outputs": [],
   "source": [
    "#Merge experiment\n",
    "lwmerged_df = pd.merge(lightweight_df, encode_df, how = \"left\", left_index=True, right_index=True)\n",
    "lwmerged_df2 = pd.merge(lwmerged_df, B_stance_df, how = \"left\", left_index=True, right_index=True)\n",
    "lwmerged_df3 = pd.merge(lwmerged_df2, lwwinner_df, how = \"left\", left_index=True, right_index=True)\n",
    "lwmerged_df3"
   ]
  },
  {
   "cell_type": "code",
   "execution_count": null,
   "id": "2ff41cd8",
   "metadata": {},
   "outputs": [],
   "source": [
    "#Drop original rows for Winner / Rstance / Bstance\n",
    "lwmerged_df3 = lwmerged_df3.drop([\"Winner\"], axis = 1)\n",
    "lwmerged_df3 = lwmerged_df3.drop([\"R_Stance\"], axis = 1)\n",
    "lwmerged_df3 = lwmerged_df3.drop([\"B_Stance\"], axis = 1)\n",
    "lwmerged_df3"
   ]
  },
  {
   "cell_type": "code",
   "execution_count": null,
   "id": "252d93e8",
   "metadata": {},
   "outputs": [],
   "source": [
    "#Get rid of Nans and columns that are not needed\n",
    "lwmerged_df3.dropna(inplace=True)\n",
    "lwmerged_df3 = lwmerged_df3.drop(['B_avg_KD','B_avg_opp_KD','B_avg_SIG_STR_pct','B_avg_opp_SIG_STR_pct','B_avg_TD_pct','B_avg_opp_TD_pct','B_avg_SUB_ATT','B_avg_opp_SUB_ATT','B_avg_REV','B_avg_opp_REV','B_avg_SIG_STR_att','B_avg_SIG_STR_landed','B_avg_opp_SIG_STR_att','B_avg_opp_SIG_STR_landed','B_avg_TOTAL_STR_att','B_avg_TOTAL_STR_landed','B_avg_opp_TOTAL_STR_att','B_avg_opp_TOTAL_STR_landed','B_avg_TD_att','B_avg_TD_landed','B_avg_opp_TD_att','B_avg_opp_TD_landed','B_avg_HEAD_att','B_avg_HEAD_landed','B_avg_opp_HEAD_att','B_avg_opp_HEAD_landed','B_avg_BODY_att','B_avg_BODY_landed','B_avg_opp_BODY_att','B_avg_opp_BODY_landed','B_avg_LEG_att','B_avg_LEG_landed','B_avg_opp_LEG_att','B_avg_opp_LEG_landed','B_avg_DISTANCE_att','B_avg_DISTANCE_landed','B_avg_opp_DISTANCE_att','B_avg_opp_DISTANCE_landed','B_avg_CLINCH_att','B_avg_CLINCH_landed','B_avg_opp_CLINCH_att','B_avg_opp_CLINCH_landed','B_avg_GROUND_att','B_avg_GROUND_landed','B_avg_opp_GROUND_att','B_avg_opp_GROUND_landed','B_avg_CTRL_time(seconds)','B_avg_opp_CTRL_time(seconds)','R_avg_KD','R_avg_opp_KD','R_avg_SIG_STR_pct','R_avg_opp_SIG_STR_pct','R_avg_TD_pct','R_avg_opp_TD_pct','R_avg_SUB_ATT','R_avg_opp_SUB_ATT','R_avg_REV','R_avg_opp_REV','R_avg_SIG_STR_att','R_avg_SIG_STR_landed','R_avg_opp_SIG_STR_att','R_avg_opp_SIG_STR_landed','R_avg_TOTAL_STR_att','R_avg_TOTAL_STR_landed','R_avg_opp_TOTAL_STR_att','R_avg_opp_TOTAL_STR_landed','R_avg_TD_att','R_avg_TD_landed','R_avg_opp_TD_att','R_avg_opp_TD_landed','R_avg_HEAD_att','R_avg_HEAD_landed','R_avg_opp_HEAD_att','R_avg_opp_HEAD_landed','R_avg_BODY_att','R_avg_BODY_landed','R_avg_opp_BODY_att','R_avg_opp_BODY_landed','R_avg_LEG_att','R_avg_LEG_landed','R_avg_opp_LEG_att','R_avg_opp_LEG_landed','R_avg_DISTANCE_att','R_avg_DISTANCE_landed','R_avg_opp_DISTANCE_att','R_avg_opp_DISTANCE_landed','R_avg_CLINCH_att','R_avg_CLINCH_landed','R_avg_opp_CLINCH_att','R_avg_opp_CLINCH_landed','R_avg_GROUND_att','R_avg_GROUND_landed','R_avg_opp_GROUND_att','R_avg_opp_GROUND_landed','R_avg_CTRL_time(seconds)','R_avg_opp_CTRL_time(seconds)'], axis = 1)\n",
    "lwmerged_df3"
   ]
  },
  {
   "cell_type": "code",
   "execution_count": null,
   "id": "5484c612",
   "metadata": {},
   "outputs": [],
   "source": [
    "#change date to datetime\n",
    "lwmerged_df3['date'] = lwmerged_df3['date'].apply(pd.to_datetime)\n",
    "lwmerged_df3"
   ]
  },
  {
   "cell_type": "code",
   "execution_count": null,
   "id": "4ec100ad",
   "metadata": {},
   "outputs": [],
   "source": [
    "#check dtypes\n",
    "lwmerged_df3.dtypes"
   ]
  },
  {
   "cell_type": "code",
   "execution_count": null,
   "id": "1e69ee9a",
   "metadata": {},
   "outputs": [],
   "source": [
    "#Sort by maximum total rounds fought with two dfs\n",
    "lw_r_fighters_df= lwmerged_df3.sort_values(by='R_total_rounds_fought', ascending=False)\n",
    "lw_b_fighters_df= lwmerged_df3.sort_values(by='B_total_rounds_fought', ascending=False)\n",
    "lw_b_fighters_df"
   ]
  },
  {
   "cell_type": "code",
   "execution_count": null,
   "id": "962cb926",
   "metadata": {},
   "outputs": [],
   "source": [
    "#Delete duplicates in r_fighters & b_fighters\n",
    "lw_r_fighters_df = lw_r_fighters_df.drop_duplicates(subset = \"R_fighter\", keep = \"first\")\n",
    "lw_b_fighters_df = lw_b_fighters_df.drop_duplicates(subset = \"B_fighter\", keep = \"first\")\n",
    "lw_b_fighters_df"
   ]
  },
  {
   "cell_type": "code",
   "execution_count": null,
   "id": "061d92dc",
   "metadata": {},
   "outputs": [],
   "source": [
    "#merge both dfs\n",
    "frames = [lw_r_fighters_df,lw_b_fighters_df]\n",
    "lw_fighters_df = pd.concat(frames)\n",
    "lw_fighters_df"
   ]
  },
  {
   "cell_type": "code",
   "execution_count": null,
   "id": "8313af75",
   "metadata": {},
   "outputs": [],
   "source": [
    "#Export as csv\n",
    "lwmerged_df3.to_csv(\"LW_clean_data.csv\")\n"
   ]
  },
  {
   "cell_type": "code",
   "execution_count": null,
   "id": "650cde14",
   "metadata": {},
   "outputs": [],
   "source": []
  },
  {
   "cell_type": "code",
   "execution_count": null,
   "id": "0bfd9ece",
   "metadata": {},
   "outputs": [],
   "source": []
  },
  {
   "cell_type": "code",
   "execution_count": null,
   "id": "321a443a",
   "metadata": {},
   "outputs": [],
   "source": []
  }
 ],
 "metadata": {
  "kernelspec": {
   "display_name": "mlenv",
   "language": "python",
   "name": "mlenv"
  },
  "language_info": {
   "codemirror_mode": {
    "name": "ipython",
    "version": 3
   },
   "file_extension": ".py",
   "mimetype": "text/x-python",
   "name": "python",
   "nbconvert_exporter": "python",
   "pygments_lexer": "ipython3",
   "version": "3.7.10"
  }
 },
 "nbformat": 4,
 "nbformat_minor": 5
}
