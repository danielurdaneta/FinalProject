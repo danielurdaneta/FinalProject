{
 "cells": [
  {
   "cell_type": "code",
   "execution_count": null,
   "metadata": {},
   "outputs": [],
   "source": [
    "# Import our dependencies\n",
    "import pandas as pd\n",
    "import sklearn as skl\n",
    "from sklearn.model_selection import train_test_split\n",
    "from sklearn.preprocessing import StandardScaler,OneHotEncoder\n",
    "import tensorflow as tf"
   ]
  },
  {
   "cell_type": "code",
   "execution_count": null,
   "metadata": {},
   "outputs": [],
   "source": [
    "# Read in our raw data\n",
    "data_df = pd.read_csv(\"data.csv\")\n",
    "data_df"
   ]
  },
  {
   "cell_type": "code",
   "execution_count": null,
   "metadata": {},
   "outputs": [],
   "source": [
    "#Filter by welterweight weight class\n",
    "welter_df = data_df[data_df[\"weight_class\"]==\"Welterweight\"]\n",
    "welter_df"
   ]
  },
  {
   "cell_type": "code",
   "execution_count": null,
   "metadata": {},
   "outputs": [],
   "source": [
    "#Drop columns that are irrelevant\n",
    "welter_df = welter_df.drop([\"location\"], axis = 1)\n",
    "welter_df = welter_df.drop([\"Referee\"], axis = 1)\n",
    "welter_df = welter_df.drop([\"date\"], axis = 1)\n",
    "welter_df = welter_df.drop([\"weight_class\"], axis = 1)\n",
    "welter_df = welter_df.drop([\"title_bout\"], axis = 1)\n",
    "welter_df"
   ]
  },
  {
   "cell_type": "code",
   "execution_count": null,
   "metadata": {},
   "outputs": [],
   "source": [
    "from sklearn.preprocessing import OneHotEncoder\n",
    "enc = OneHotEncoder(sparse=False)\n",
    "\n",
    "# Fit the encoder and produce encoded DataFrame\n",
    "encode_df = pd.DataFrame(enc.fit_transform(welter_df.R_Stance.values.reshape(-1,1)))\n",
    "\n",
    "# Rename encoded columns\n",
    "encode_df.columns = enc.get_feature_names(['R_Stance'])\n",
    "encode_df"
   ]
  },
  {
   "cell_type": "code",
   "execution_count": null,
   "metadata": {},
   "outputs": [],
   "source": [
    "# Create the OneHotEncoder instance\n",
    "enc = OneHotEncoder(sparse=False)\n",
    "\n",
    "# Fit the encoder and produce encoded DataFrame\n",
    "B_stance_df = pd.DataFrame(enc.fit_transform(welter_df.B_Stance.values.reshape(-1,1)))\n",
    "\n",
    "# Rename encoded columns\n",
    "B_stance_df.columns = enc.get_feature_names(['B_Stance'])\n",
    "B_stance_df"
   ]
  },
  {
   "cell_type": "code",
   "execution_count": null,
   "metadata": {},
   "outputs": [],
   "source": [
    "# Create the OneHotEncoder instance\n",
    "enc = OneHotEncoder(sparse=False)\n",
    "\n",
    "# Fit the encoder and produce encoded DataFrame\n",
    "winner_df = pd.DataFrame(enc.fit_transform(welter_df.Winner.values.reshape(-1,1)))\n",
    "\n",
    "# Rename encoded columns\n",
    "winner_df.columns = enc.get_feature_names(['Winner'])\n",
    "winner_df"
   ]
  },
  {
   "cell_type": "code",
   "execution_count": null,
   "metadata": {},
   "outputs": [],
   "source": [
    "#Merge experiment\n",
    "merged_df = pd.merge(welter_df, encode_df, how = \"left\", left_index=True, right_index=True)\n",
    "merged_df2 = pd.merge(merged_df, B_stance_df, how = \"left\", left_index=True, right_index=True)\n",
    "merged_df3 = pd.merge(merged_df2, winner_df, how = \"left\", left_index=True, right_index=True)\n",
    "merged_df3"
   ]
  },
  {
   "cell_type": "code",
   "execution_count": null,
   "metadata": {},
   "outputs": [],
   "source": [
    "#Drop original rows for Winner / Rstance / Bstance\n",
    "merged_df3 = merged_df3.drop([\"Winner\"], axis = 1)\n",
    "merged_df3 = merged_df3.drop([\"R_Stance\"], axis = 1)\n",
    "merged_df3 = merged_df3.drop([\"B_Stance\"], axis = 1)\n",
    "merged_df3"
   ]
  },
  {
   "cell_type": "code",
   "execution_count": null,
   "metadata": {},
   "outputs": [],
   "source": [
    "#Get rid of NaNs\n",
    "merged_df3.dropna(inplace=True)\n",
    "merged_df3"
   ]
  },
  {
   "cell_type": "code",
   "execution_count": null,
   "metadata": {},
   "outputs": [],
   "source": [
    "#Export as csv\n",
    "merged_df3.to_csv(\"clean_data.csv\")"
   ]
  },
  {
   "cell_type": "code",
   "execution_count": null,
   "metadata": {},
   "outputs": [],
   "source": [
    "merged_df3=merged_df3.rename(columns={\"Winner_Red\":\"R_Win\", \"Winner_Blue\":\"B_Win\"})"
   ]
  },
  {
   "cell_type": "code",
   "execution_count": null,
   "metadata": {},
   "outputs": [],
   "source": [
    "R=[col for col in merged_df3 if col.startswith('R_')]\n",
    "R"
   ]
  },
  {
   "cell_type": "code",
   "execution_count": null,
   "metadata": {},
   "outputs": [],
   "source": [
    "red_df=merged_df3[R]\n",
    "red_df"
   ]
  },
  {
   "cell_type": "code",
   "execution_count": null,
   "metadata": {},
   "outputs": [],
   "source": [
    "red_df=red_df.rename(columns={'R_fighter':'fighter', 'R_avg_KD':'avg_KD', 'R_avg_opp_KD':'avg_opp_KD', 'R_avg_SIG_STR_pct':'avg_SIG_STR_pct',\n",
    " 'R_avg_opp_SIG_STR_pct':'avg_opp_SIG_STR_pct',\n",
    " 'R_avg_TD_pct':'avg_TD_pct',\n",
    " 'R_avg_opp_TD_pct':'avg_opp_TD_pct',\n",
    " 'R_avg_SUB_ATT':'avg_SUB_ATT',\n",
    " 'R_avg_opp_SUB_ATT':'avg_opp_SUB_ATT',\n",
    " 'R_avg_REV':'avg_REV',\n",
    " 'R_avg_opp_REV':'avg_opp_REV',\n",
    " 'R_avg_SIG_STR_att':'avg_SIG_STR_att',\n",
    " 'R_avg_SIG_STR_landed':'avg_SIG_STR_landed',\n",
    " 'R_avg_opp_SIG_STR_att':'avg_opp_SIG_STR_att',\n",
    " 'R_avg_opp_SIG_STR_landed':'avg_opp_SIG_STR_landed',\n",
    " 'R_avg_TOTAL_STR_att':'avg_TOTAL_STR_att',\n",
    " 'R_avg_TOTAL_STR_landed':'avg_TOTAL_STR_landed',\n",
    " 'R_avg_opp_TOTAL_STR_att':'avg_opp_TOTAL_STR_att',\n",
    " 'R_avg_opp_TOTAL_STR_landed':'avg_opp_TOTAL_STR_landed',\n",
    " 'R_avg_TD_att':'avg_TD_att',\n",
    " 'R_avg_TD_landed':'avg_TD_landed',\n",
    " 'R_avg_opp_TD_att':'avg_opp_TD_att',\n",
    " 'R_avg_opp_TD_landed': 'avg_opp_TD_landed',\n",
    " 'R_avg_HEAD_att':'avg_HEAD_att',\n",
    " 'R_avg_HEAD_landed':'avg_HEAD_landed',\n",
    " 'R_avg_opp_HEAD_att':'avg_opp_HEAD_att',\n",
    " 'R_avg_opp_HEAD_landed':'avg_opp_HEAD_landed',\n",
    " 'R_avg_BODY_att':'avg_BODY_att',\n",
    " 'R_avg_BODY_landed':'avg_BODY_landed',\n",
    " 'R_avg_opp_BODY_att':'avg_opp_BODY_att',\n",
    " 'R_avg_opp_BODY_landed': 'avg_opp_BODY_landed',\n",
    " 'R_avg_LEG_att':'avg_LEG_att',\n",
    " 'R_avg_LEG_landed':'avg_LEG_landed',\n",
    " 'R_avg_opp_LEG_att':'avg_opp_LEG_att',\n",
    " 'R_avg_opp_LEG_landed': 'avg_opp_LEG_landed',\n",
    " 'R_avg_DISTANCE_att':'avg_DISTANCE_att',\n",
    " 'R_avg_DISTANCE_landed':'avg_DISTANCE_landed',\n",
    " 'R_avg_opp_DISTANCE_att':'avg_opp_DISTANCE_att',\n",
    " 'R_avg_opp_DISTANCE_landed':'avg_opp_DISTANCE_landed',\n",
    " 'R_avg_CLINCH_att':'avg_CLINCH_att',\n",
    " 'R_avg_CLINCH_landed':'avg_CLINCH_landed',\n",
    " 'R_avg_opp_CLINCH_att':'avg_opp_CLINCH_att',\n",
    " 'R_avg_opp_CLINCH_landed':'avg_opp_CLINCH_landed',\n",
    " 'R_avg_GROUND_att':'avg_GROUND_att',\n",
    " 'R_avg_GROUND_landed':'avg_GROUND_landed',\n",
    " 'R_avg_opp_GROUND_att':'avg_opp_GROUND_att',\n",
    " 'R_avg_opp_GROUND_landed':'avg_opp_GROUND_landed',\n",
    " 'R_avg_CTRL_time(seconds)':'avg_CTRL_time(seconds)',\n",
    " 'R_avg_opp_CTRL_time(seconds)':'avg_opp_CTRL_time(seconds)',\n",
    " 'R_total_time_fought(seconds)':'total_time_fought(seconds)',\n",
    " 'R_total_rounds_fought':'total_rounds_fought',\n",
    " 'R_total_title_bouts':'total_title_bouts',\n",
    " 'R_current_win_streak':'current_win_streak',\n",
    " 'R_current_lose_streak':'current_lose_streak',\n",
    " 'R_longest_win_streak':'longest_win_streak',\n",
    " 'R_wins':'wins',\n",
    " 'R_losses':'losses',\n",
    " 'R_draw':'draw',\n",
    " 'R_win_by_Decision_Majority':'win_by_Decision_Majority',\n",
    " 'R_win_by_Decision_Split':'win_by_Decision_Split',\n",
    " 'R_win_by_Decision_Unanimous':'win_by_Decision_Unanimous',\n",
    " 'R_win_by_KO/TKO':'win_by_KO/TKO',\n",
    " 'R_win_by_Submission':'win_by_Submission',\n",
    " 'R_win_by_TKO_Doctor_Stoppage':'win_by_TKO_Doctor_Stoppage',\n",
    " 'R_Height_cms':'Height_cms',\n",
    " 'R_Reach_cms':'Reach_cms',\n",
    " 'R_Weight_lbs':'Weight_lbs',\n",
    " 'R_age':'age',\n",
    " 'R_Stance_Orthodox':'Stance_Orthodox',\n",
    " 'R_Stance_Southpaw':'Stance_Southpaw',\n",
    " 'R_Stance_Switch':'Stance_Switch',\n",
    " 'R_Stance_nan':'Stance_nan',\n",
    " 'R_Win':'Win'})\n",
    "red_df"
   ]
  },
  {
   "cell_type": "code",
   "execution_count": null,
   "metadata": {},
   "outputs": [],
   "source": [
    "B=[col for col in merged_df3 if col.startswith('B_')]\n",
    "B"
   ]
  },
  {
   "cell_type": "code",
   "execution_count": null,
   "metadata": {},
   "outputs": [],
   "source": [
    "blue_df=merged_df3[B]\n",
    "blue_df"
   ]
  },
  {
   "cell_type": "code",
   "execution_count": null,
   "metadata": {},
   "outputs": [],
   "source": [
    "blue_df=blue_df.rename(columns={'B_fighter':'fighter', 'B_avg_KD':'avg_KD', 'B_avg_opp_KD':'avg_opp_KD', 'B_avg_SIG_STR_pct':'avg_SIG_STR_pct',\n",
    " 'B_avg_opp_SIG_STR_pct':'avg_opp_SIG_STR_pct',\n",
    " 'B_avg_TD_pct':'avg_TD_pct',\n",
    " 'B_avg_opp_TD_pct':'avg_opp_TD_pct',\n",
    " 'B_avg_SUB_ATT':'avg_SUB_ATT',\n",
    " 'B_avg_opp_SUB_ATT':'avg_opp_SUB_ATT',\n",
    " 'B_avg_REV':'avg_REV',\n",
    " 'B_avg_opp_REV':'avg_opp_REV',\n",
    " 'B_avg_SIG_STR_att':'avg_SIG_STR_att',\n",
    " 'B_avg_SIG_STR_landed':'avg_SIG_STR_landed',\n",
    " 'B_avg_opp_SIG_STR_att':'avg_opp_SIG_STR_att',\n",
    " 'B_avg_opp_SIG_STR_landed':'avg_opp_SIG_STR_landed',\n",
    " 'B_avg_TOTAL_STR_att':'avg_TOTAL_STR_att',\n",
    " 'B_avg_TOTAL_STR_landed':'avg_TOTAL_STR_landed',\n",
    " 'B_avg_opp_TOTAL_STR_att':'avg_opp_TOTAL_STR_att',\n",
    " 'B_avg_opp_TOTAL_STR_landed':'avg_opp_TOTAL_STR_landed',\n",
    " 'B_avg_TD_att':'avg_TD_att',\n",
    " 'B_avg_TD_landed':'avg_TD_landed',\n",
    " 'B_avg_opp_TD_att':'avg_opp_TD_att',\n",
    " 'B_avg_opp_TD_landed': 'avg_opp_TD_landed',\n",
    " 'B_avg_HEAD_att':'avg_HEAD_att',\n",
    " 'B_avg_HEAD_landed':'avg_HEAD_landed',\n",
    " 'B_avg_opp_HEAD_att':'avg_opp_HEAD_att',\n",
    " 'B_avg_opp_HEAD_landed':'avg_opp_HEAD_landed',\n",
    " 'B_avg_BODY_att':'avg_BODY_att',\n",
    " 'B_avg_BODY_landed':'avg_BODY_landed',\n",
    " 'B_avg_opp_BODY_att':'avg_opp_BODY_att',\n",
    " 'B_avg_opp_BODY_landed': 'avg_opp_BODY_landed',\n",
    " 'B_avg_LEG_att':'avg_LEG_att',\n",
    " 'B_avg_LEG_landed':'avg_LEG_landed',\n",
    " 'B_avg_opp_LEG_att':'avg_opp_LEG_att',\n",
    " 'B_avg_opp_LEG_landed': 'avg_opp_LEG_landed',\n",
    " 'B_avg_DISTANCE_att':'avg_DISTANCE_att',\n",
    " 'B_avg_DISTANCE_landed':'avg_DISTANCE_landed',\n",
    " 'B_avg_opp_DISTANCE_att':'avg_opp_DISTANCE_att',\n",
    " 'B_avg_opp_DISTANCE_landed':'avg_opp_DISTANCE_landed',\n",
    " 'B_avg_CLINCH_att':'avg_CLINCH_att',\n",
    " 'B_avg_CLINCH_landed':'avg_CLINCH_landed',\n",
    " 'B_avg_opp_CLINCH_att':'avg_opp_CLINCH_att',\n",
    " 'B_avg_opp_CLINCH_landed':'avg_opp_CLINCH_landed',\n",
    " 'B_avg_GROUND_att':'avg_GROUND_att',\n",
    " 'B_avg_GROUND_landed':'avg_GROUND_landed',\n",
    " 'B_avg_opp_GROUND_att':'avg_opp_GROUND_att',\n",
    " 'B_avg_opp_GROUND_landed':'avg_opp_GROUND_landed',\n",
    " 'B_avg_CTRL_time(seconds)':'avg_CTRL_time(seconds)',\n",
    " 'B_avg_opp_CTRL_time(seconds)':'avg_opp_CTRL_time(seconds)',\n",
    " 'B_total_time_fought(seconds)':'total_time_fought(seconds)',\n",
    " 'B_total_rounds_fought':'total_rounds_fought',\n",
    " 'B_total_title_bouts':'total_title_bouts',\n",
    " 'B_current_win_streak':'current_win_streak',\n",
    " 'B_current_lose_streak':'current_lose_streak',\n",
    " 'B_longest_win_streak':'longest_win_streak',\n",
    " 'B_wins':'wins',\n",
    " 'B_losses':'losses',\n",
    " 'B_draw':'draw',\n",
    " 'B_win_by_Decision_Majority':'win_by_Decision_Majority',\n",
    " 'B_win_by_Decision_Split':'win_by_Decision_Split',\n",
    " 'B_win_by_Decision_Unanimous':'win_by_Decision_Unanimous',\n",
    " 'B_win_by_KO/TKO':'win_by_KO/TKO',\n",
    " 'B_win_by_Submission':'win_by_Submission',\n",
    " 'B_win_by_TKO_Doctor_Stoppage':'win_by_TKO_Doctor_Stoppage',\n",
    " 'B_Height_cms':'Height_cms',\n",
    " 'B_Reach_cms':'Reach_cms',\n",
    " 'B_Weight_lbs':'Weight_lbs',\n",
    " 'B_age':'age',\n",
    " 'B_Stance_Orthodox':'Stance_Orthodox',\n",
    " 'B_Stance_Southpaw':'Stance_Southpaw',\n",
    " 'B_Stance_Switch':'Stance_Switch',\n",
    " 'B_Stance_nan':'Stance_nan',\n",
    " 'B_Win':'Win'})"
   ]
  },
  {
   "cell_type": "code",
   "execution_count": null,
   "metadata": {},
   "outputs": [],
   "source": [
    "indiv_fighter_df=pd.concat([blue_df, red_df])\n",
    "indiv_fighter_df"
   ]
  },
  {
   "cell_type": "code",
   "execution_count": null,
   "metadata": {},
   "outputs": [],
   "source": [
    "indiv_fighter_df=pd.DataFrame(indiv_fighter_df)\n",
    "indiv_fighter_df"
   ]
  },
  {
   "cell_type": "code",
   "execution_count": null,
   "metadata": {},
   "outputs": [],
   "source": [
    "indiv_fighter_df=indiv_fighter_df.drop(['fighter'], axis=1)\n",
    "indiv_fighter_df"
   ]
  },
  {
   "cell_type": "code",
   "execution_count": null,
   "metadata": {},
   "outputs": [],
   "source": [
    "indiv_fighter_df=indiv_fighter_df.reset_index(drop=True)\n",
    "indiv_fighter_df"
   ]
  },
  {
   "cell_type": "code",
   "execution_count": null,
   "metadata": {},
   "outputs": [],
   "source": [
    "#Export as csv\n",
    "indiv_fighter_df.to_csv(\"individual_fighter_clean_data.csv\")"
   ]
  },
  {
   "cell_type": "code",
   "execution_count": null,
   "metadata": {},
   "outputs": [],
   "source": [
    "indiv_fighter_df.columns"
   ]
  }
 ],
 "metadata": {
  "kernelspec": {
   "display_name": "mlenv",
   "language": "python",
   "name": "mlenv"
  },
  "language_info": {
   "codemirror_mode": {
    "name": "ipython",
    "version": 3
   },
   "file_extension": ".py",
   "mimetype": "text/x-python",
   "name": "python",
   "nbconvert_exporter": "python",
   "pygments_lexer": "ipython3",
   "version": "3.8.5"
  }
 },
 "nbformat": 4,
 "nbformat_minor": 4
}
