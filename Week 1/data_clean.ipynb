{
 "cells": [
  {
   "cell_type": "code",
   "execution_count": null,
   "id": "86669bc9",
   "metadata": {},
   "outputs": [],
   "source": [
    "# Import our dependencies\n",
    "import pandas as pd\n",
    "import sklearn as skl\n",
    "from sklearn.model_selection import train_test_split\n",
    "from sklearn.preprocessing import StandardScaler,OneHotEncoder\n",
    "import tensorflow as tf"
   ]
  },
  {
   "cell_type": "code",
   "execution_count": null,
   "id": "5a6e6516",
   "metadata": {},
   "outputs": [],
   "source": [
    "# Read in our raw data\n",
    "data_df = pd.read_csv(\"data.csv\")\n",
    "data_df"
   ]
  },
  {
   "cell_type": "code",
   "execution_count": null,
   "id": "41de953e",
   "metadata": {},
   "outputs": [],
   "source": [
    "#Filter by welterweight weight class\n",
    "welter_df = data_df[data_df[\"weight_class\"]==\"Welterweight\"]\n",
    "welter_df"
   ]
  },
  {
   "cell_type": "code",
   "execution_count": null,
   "id": "63a139df",
   "metadata": {},
   "outputs": [],
   "source": [
    "#Drop columns that are irrelevant\n",
    "welter_df = welter_df.drop([\"location\"], axis = 1)\n",
    "welter_df = welter_df.drop([\"Referee\"], axis = 1)\n",
    "welter_df = welter_df.drop([\"date\"], axis = 1)\n",
    "welter_df = welter_df.drop([\"weight_class\"], axis = 1)\n",
    "welter_df = welter_df.drop([\"title_bout\"], axis = 1)\n",
    "welter_df"
   ]
  },
  {
   "cell_type": "code",
   "execution_count": null,
   "id": "811eea3b",
   "metadata": {},
   "outputs": [],
   "source": [
    "from sklearn.preprocessing import OneHotEncoder\n",
    "enc = OneHotEncoder(sparse=False)\n",
    "\n",
    "# Fit the encoder and produce encoded DataFrame\n",
    "encode_df = pd.DataFrame(enc.fit_transform(welter_df.R_Stance.values.reshape(-1,1)))\n",
    "\n",
    "# Rename encoded columns\n",
    "encode_df.columns = enc.get_feature_names(['R_Stance'])\n",
    "encode_df"
   ]
  },
  {
   "cell_type": "code",
   "execution_count": null,
   "id": "1c458455",
   "metadata": {},
   "outputs": [],
   "source": [
    "# Create the OneHotEncoder instance\n",
    "enc = OneHotEncoder(sparse=False)\n",
    "\n",
    "# Fit the encoder and produce encoded DataFrame\n",
    "B_stance_df = pd.DataFrame(enc.fit_transform(welter_df.B_Stance.values.reshape(-1,1)))\n",
    "\n",
    "# Rename encoded columns\n",
    "B_stance_df.columns = enc.get_feature_names(['B_Stance'])\n",
    "B_stance_df"
   ]
  },
  {
   "cell_type": "code",
   "execution_count": null,
   "id": "9c7337cf",
   "metadata": {},
   "outputs": [],
   "source": [
    "# Create the OneHotEncoder instance\n",
    "enc = OneHotEncoder(sparse=False)\n",
    "\n",
    "# Fit the encoder and produce encoded DataFrame\n",
    "winner_df = pd.DataFrame(enc.fit_transform(welter_df.Winner.values.reshape(-1,1)))\n",
    "\n",
    "# Rename encoded columns\n",
    "winner_df.columns = enc.get_feature_names(['Winner'])\n",
    "winner_df"
   ]
  },
  {
   "cell_type": "code",
   "execution_count": null,
   "id": "7f95a78a",
   "metadata": {},
   "outputs": [],
   "source": [
    "#Merge experiment\n",
    "merged_df = pd.merge(welter_df, encode_df, how = \"left\", left_index=True, right_index=True)\n",
    "merged_df2 = pd.merge(merged_df, B_stance_df, how = \"left\", left_index=True, right_index=True)\n",
    "merged_df3 = pd.merge(merged_df2, winner_df, how = \"left\", left_index=True, right_index=True)\n",
    "merged_df3"
   ]
  },
  {
   "cell_type": "code",
   "execution_count": null,
   "id": "8c3e5252",
   "metadata": {},
   "outputs": [],
   "source": [
    "#Drop original rows for Winner / Rstance / Bstance\n",
    "merged_df3 = merged_df3.drop([\"Winner\"], axis = 1)\n",
    "merged_df3 = merged_df3.drop([\"R_Stance\"], axis = 1)\n",
    "merged_df3 = merged_df3.drop([\"B_Stance\"], axis = 1)\n",
    "merged_df3"
   ]
  },
  {
   "cell_type": "code",
   "execution_count": null,
   "id": "ac0a147f",
   "metadata": {},
   "outputs": [],
   "source": [
    "#Get rid of NaNs\n",
    "merged_df3.dropna(inplace=True)\n",
    "merged_df3\n"
   ]
  },
  {
   "cell_type": "code",
   "execution_count": null,
   "id": "5514691c",
   "metadata": {},
   "outputs": [],
   "source": [
    "#Export as csv\n",
    "merged_df3.to_csv(\"clean_data.csv\")\n"
   ]
  },
  {
   "cell_type": "code",
   "execution_count": null,
   "id": "36308ee6",
   "metadata": {},
   "outputs": [],
   "source": [
    "#Filter by welterweight weight class\n",
    "lightweight_df = data_df[data_df[\"weight_class\"]==\"Lightweight\"]\n",
    "lightweight_df"
   ]
  },
  {
   "cell_type": "code",
   "execution_count": null,
   "id": "30c20ee6",
   "metadata": {},
   "outputs": [],
   "source": [
    "#Drop columns that are irrelevant\n",
    "lightweight_df = lightweight_df.drop([\"location\"], axis = 1)\n",
    "lightweight_df = lightweight_df.drop([\"Referee\"], axis = 1)\n",
    "lightweight_df = lightweight_df.drop([\"date\"], axis = 1)\n",
    "lightweight_df = lightweight_df.drop([\"weight_class\"], axis = 1)\n",
    "lightweight_df = lightweight_df.drop([\"title_bout\"], axis = 1)\n",
    "lightweight_df"
   ]
  },
  {
   "cell_type": "code",
   "execution_count": null,
   "id": "9bd6e20a",
   "metadata": {},
   "outputs": [],
   "source": [
    "from sklearn.preprocessing import OneHotEncoder\n",
    "enc = OneHotEncoder(sparse=False)\n",
    "\n",
    "# Fit the encoder and produce encoded DataFrame\n",
    "encode_df = pd.DataFrame(enc.fit_transform(lightweight_df.R_Stance.values.reshape(-1,1)))\n",
    "\n",
    "# Rename encoded columns\n",
    "encode_df.columns = enc.get_feature_names(['R_Stance'])\n",
    "encode_df"
   ]
  },
  {
   "cell_type": "code",
   "execution_count": null,
   "id": "1e02daaf",
   "metadata": {},
   "outputs": [],
   "source": [
    "# Create the OneHotEncoder instance\n",
    "enc = OneHotEncoder(sparse=False)\n",
    "\n",
    "# Fit the encoder and produce encoded DataFrame\n",
    "B_stance_df = pd.DataFrame(enc.fit_transform(lightweight_df.B_Stance.values.reshape(-1,1)))\n",
    "\n",
    "# Rename encoded columns\n",
    "B_stance_df.columns = enc.get_feature_names(['B_Stance'])\n",
    "B_stance_df"
   ]
  },
  {
   "cell_type": "code",
   "execution_count": null,
   "id": "a2df2b1d",
   "metadata": {},
   "outputs": [],
   "source": [
    "# Create the OneHotEncoder instance\n",
    "enc = OneHotEncoder(sparse=False)\n",
    "\n",
    "# Fit the encoder and produce encoded DataFrame\n",
    "lwwinner_df = pd.DataFrame(enc.fit_transform(lightweight_df.Winner.values.reshape(-1,1)))\n",
    "\n",
    "# Rename encoded columns\n",
    "lwwinner_df.columns = enc.get_feature_names(['Winner'])\n",
    "lwwinner_df"
   ]
  },
  {
   "cell_type": "code",
   "execution_count": null,
   "id": "dc7f7d3c",
   "metadata": {},
   "outputs": [],
   "source": [
    "#Merge experiment\n",
    "lwmerged_df = pd.merge(lightweight_df, encode_df, how = \"left\", left_index=True, right_index=True)\n",
    "lwmerged_df2 = pd.merge(lwmerged_df, B_stance_df, how = \"left\", left_index=True, right_index=True)\n",
    "lwmerged_df3 = pd.merge(lwmerged_df2, lwwinner_df, how = \"left\", left_index=True, right_index=True)\n",
    "lwmerged_df3"
   ]
  },
  {
   "cell_type": "code",
   "execution_count": null,
   "id": "bcdf3910",
   "metadata": {},
   "outputs": [],
   "source": [
    "#Drop original rows for Winner / Rstance / Bstance\n",
    "lwmerged_df3 = lwmerged_df3.drop([\"Winner\"], axis = 1)\n",
    "lwmerged_df3 = lwmerged_df3.drop([\"R_Stance\"], axis = 1)\n",
    "lwmerged_df3 = lwmerged_df3.drop([\"B_Stance\"], axis = 1)\n",
    "lwmerged_df3"
   ]
  },
  {
   "cell_type": "code",
   "execution_count": null,
   "id": "4c44981d",
   "metadata": {},
   "outputs": [],
   "source": [
    "#Get rid of NaNs\n",
    "lwmerged_df3.dropna(inplace=True)\n",
    "lwmerged_df3"
   ]
  },
  {
   "cell_type": "code",
   "execution_count": null,
   "id": "0ce6223c",
   "metadata": {},
   "outputs": [],
   "source": [
    "#Export as csv\n",
    "lwmerged_df3.to_csv(\"LW_clean_data.csv\")\n"
   ]
  },
  {
   "cell_type": "code",
   "execution_count": null,
   "id": "b5ef9bc5",
   "metadata": {},
   "outputs": [],
   "source": []
  }
 ],
 "metadata": {
  "kernelspec": {
   "display_name": "PythonData",
   "language": "python",
   "name": "pythondata"
  },
  "language_info": {
   "codemirror_mode": {
    "name": "ipython",
    "version": 3
   },
   "file_extension": ".py",
   "mimetype": "text/x-python",
   "name": "python",
   "nbconvert_exporter": "python",
   "pygments_lexer": "ipython3",
   "version": "3.7.10"
  }
 },
 "nbformat": 4,
 "nbformat_minor": 5
}
