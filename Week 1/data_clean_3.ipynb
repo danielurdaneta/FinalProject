{
 "cells": [
  {
   "cell_type": "code",
   "execution_count": null,
   "id": "8a14d3cf",
   "metadata": {},
   "outputs": [],
   "source": [
    "# Import our dependencies\n",
    "import pandas as pd\n",
    "import sklearn as skl\n",
    "from sklearn.model_selection import train_test_split\n",
    "from sklearn.preprocessing import StandardScaler,OneHotEncoder\n",
    "import tensorflow as tf"
   ]
  },
  {
   "cell_type": "code",
   "execution_count": null,
   "id": "4ceaead7",
   "metadata": {},
   "outputs": [],
   "source": [
    "# Read in our raw data\n",
    "data_df = pd.read_csv(\"../data.csv\")\n",
    "data_df"
   ]
  },
  {
   "cell_type": "code",
   "execution_count": null,
   "id": "037c0285",
   "metadata": {},
   "outputs": [],
   "source": [
    "#Filter by welterweight weight class\n",
    "welter_df = data_df[data_df[\"weight_class\"]==\"Welterweight\"]\n",
    "welter_df\n"
   ]
  },
  {
   "cell_type": "code",
   "execution_count": null,
   "id": "b530f7f7",
   "metadata": {},
   "outputs": [],
   "source": [
    "#Drop columns that are irrelevant\n",
    "welter_df = welter_df.drop([\"location\"], axis = 1)\n",
    "welter_df = welter_df.drop([\"Referee\"], axis = 1)\n",
    "welter_df = welter_df.drop([\"weight_class\"], axis = 1)\n",
    "welter_df = welter_df.drop([\"title_bout\"], axis = 1)\n",
    "welter_df"
   ]
  },
  {
   "cell_type": "code",
   "execution_count": null,
   "id": "a1ead494",
   "metadata": {},
   "outputs": [],
   "source": [
    "from sklearn.preprocessing import OneHotEncoder\n",
    "enc = OneHotEncoder(sparse=False)\n",
    "\n",
    "# Fit the encoder and produce encoded DataFrame\n",
    "encode_df = pd.DataFrame(enc.fit_transform(welter_df.R_Stance.values.reshape(-1,1)))\n",
    "\n",
    "# Rename encoded columns\n",
    "encode_df.columns = enc.get_feature_names(['R_Stance'])\n",
    "encode_df"
   ]
  },
  {
   "cell_type": "code",
   "execution_count": null,
   "id": "7cfc29f4",
   "metadata": {},
   "outputs": [],
   "source": [
    "# Create the OneHotEncoder instance\n",
    "enc = OneHotEncoder(sparse=False)\n",
    "\n",
    "# Fit the encoder and produce encoded DataFrame\n",
    "B_stance_df = pd.DataFrame(enc.fit_transform(welter_df.B_Stance.values.reshape(-1,1)))\n",
    "\n",
    "# Rename encoded columns\n",
    "B_stance_df.columns = enc.get_feature_names(['B_Stance'])\n",
    "B_stance_df"
   ]
  },
  {
   "cell_type": "code",
   "execution_count": null,
   "id": "d9e58075",
   "metadata": {},
   "outputs": [],
   "source": [
    "#LabelEncode the winner column\n",
    "le = LabelEncoder()\n",
    "winner_df['Winner'] = le.fit_transform(welter_df['Winner']) \n",
    "winner_df.head()"
   ]
  },
  {
   "cell_type": "code",
   "execution_count": null,
   "id": "c97df303",
   "metadata": {},
   "outputs": [],
   "source": [
    "#Merge experiment\n",
    "merged_df=welter_df.join(encode_df)\n",
    "merged_df2=merged_df.join(B_stance_df)\n",
    "merged_df2['Winner'] = winner_df['Winner']\n",
    "\n",
    "merged_df2"
   ]
  },
  {
   "cell_type": "code",
   "execution_count": null,
   "id": "4655585c",
   "metadata": {},
   "outputs": [],
   "source": [
    "#Drop original rows for Winner / Rstance / Bstance\n",
    "merged_df2 = merged_df2.drop([\"R_Stance\"], axis = 1)\n",
    "merged_df2 = merged_df2.drop([\"B_Stance\"], axis = 1)\n",
    "merged_df2"
   ]
  },
  {
   "cell_type": "code",
   "execution_count": null,
   "id": "65bf354f",
   "metadata": {},
   "outputs": [],
   "source": [
    "#Get rid of NaNs & drop columns that are not needed\n",
    "merged_df2.dropna(inplace=True)\n",
    "merged_df2 = merged_df2.drop(['B_avg_KD','B_avg_opp_KD','B_avg_SIG_STR_pct','B_avg_opp_SIG_STR_pct','B_avg_TD_pct','B_avg_opp_TD_pct','B_avg_SUB_ATT','B_avg_opp_SUB_ATT','B_avg_REV','B_avg_opp_REV','B_avg_SIG_STR_att','B_avg_SIG_STR_landed','B_avg_opp_SIG_STR_att','B_avg_opp_SIG_STR_landed','B_avg_TOTAL_STR_att','B_avg_TOTAL_STR_landed','B_avg_opp_TOTAL_STR_att','B_avg_opp_TOTAL_STR_landed','B_avg_TD_att','B_avg_TD_landed','B_avg_opp_TD_att','B_avg_opp_TD_landed','B_avg_HEAD_att','B_avg_HEAD_landed','B_avg_opp_HEAD_att','B_avg_opp_HEAD_landed','B_avg_BODY_att','B_avg_BODY_landed','B_avg_opp_BODY_att','B_avg_opp_BODY_landed','B_avg_LEG_att','B_avg_LEG_landed','B_avg_opp_LEG_att','B_avg_opp_LEG_landed','B_avg_DISTANCE_att','B_avg_DISTANCE_landed','B_avg_opp_DISTANCE_att','B_avg_opp_DISTANCE_landed','B_avg_CLINCH_att','B_avg_CLINCH_landed','B_avg_opp_CLINCH_att','B_avg_opp_CLINCH_landed','B_avg_GROUND_att','B_avg_GROUND_landed','B_avg_opp_GROUND_att','B_avg_opp_GROUND_landed','B_avg_CTRL_time(seconds)','B_avg_opp_CTRL_time(seconds)','R_avg_KD','R_avg_opp_KD','R_avg_SIG_STR_pct','R_avg_opp_SIG_STR_pct','R_avg_TD_pct','R_avg_opp_TD_pct','R_avg_SUB_ATT','R_avg_opp_SUB_ATT','R_avg_REV','R_avg_opp_REV','R_avg_SIG_STR_att','R_avg_SIG_STR_landed','R_avg_opp_SIG_STR_att','R_avg_opp_SIG_STR_landed','R_avg_TOTAL_STR_att','R_avg_TOTAL_STR_landed','R_avg_opp_TOTAL_STR_att','R_avg_opp_TOTAL_STR_landed','R_avg_TD_att','R_avg_TD_landed','R_avg_opp_TD_att','R_avg_opp_TD_landed','R_avg_HEAD_att','R_avg_HEAD_landed','R_avg_opp_HEAD_att','R_avg_opp_HEAD_landed','R_avg_BODY_att','R_avg_BODY_landed','R_avg_opp_BODY_att','R_avg_opp_BODY_landed','R_avg_LEG_att','R_avg_LEG_landed','R_avg_opp_LEG_att','R_avg_opp_LEG_landed','R_avg_DISTANCE_att','R_avg_DISTANCE_landed','R_avg_opp_DISTANCE_att','R_avg_opp_DISTANCE_landed','R_avg_CLINCH_att','R_avg_CLINCH_landed','R_avg_opp_CLINCH_att','R_avg_opp_CLINCH_landed','R_avg_GROUND_att','R_avg_GROUND_landed','R_avg_opp_GROUND_att','R_avg_opp_GROUND_landed','R_avg_CTRL_time(seconds)','R_avg_opp_CTRL_time(seconds)'], axis = 1)\n",
    "merged_df2"
   ]
  },
  {
   "cell_type": "code",
   "execution_count": null,
   "id": "8e950100",
   "metadata": {},
   "outputs": [],
   "source": [
    "#Create the CSV\n",
    "merged_df2.to_csv(\"all_welters.csv\")"
   ]
  },
  {
   "cell_type": "code",
   "execution_count": null,
   "id": "378a094a",
   "metadata": {},
   "outputs": [],
   "source": [
    "# Read in our raw data\n",
    "data_df = pd.read_csv(\"../data.csv\")\n",
    "data_df"
   ]
  },
  {
   "cell_type": "code",
   "execution_count": null,
   "id": "9ac7139b",
   "metadata": {},
   "outputs": [],
   "source": [
    "#Filter by lightweight weight class\n",
    "lw_df = data_df[data_df[\"weight_class\"]==\"Lightweight\"]\n",
    "lw_df\n"
   ]
  },
  {
   "cell_type": "code",
   "execution_count": null,
   "id": "1fee4de5",
   "metadata": {},
   "outputs": [],
   "source": [
    "#Drop columns that are irrelevant\n",
    "lw_df = lw_df.drop([\"location\"], axis = 1)\n",
    "lw_df = lw_df.drop([\"Referee\"], axis = 1)\n",
    "lw_df = lw_df.drop([\"weight_class\"], axis = 1)\n",
    "lw_df = lw_df.drop([\"title_bout\"], axis = 1)\n",
    "lw_df"
   ]
  },
  {
   "cell_type": "code",
   "execution_count": null,
   "id": "d8e1f16e",
   "metadata": {},
   "outputs": [],
   "source": [
    "from sklearn.preprocessing import OneHotEncoder\n",
    "enc = OneHotEncoder(sparse=False)\n",
    "\n",
    "# Fit the encoder and produce encoded DataFrame\n",
    "encode_df2 = pd.DataFrame(enc.fit_transform(lw_df.R_Stance.values.reshape(-1,1)))\n",
    "\n",
    "# Rename encoded columns\n",
    "encode_df2.columns = enc.get_feature_names(['R_Stance'])\n",
    "encode_df2"
   ]
  },
  {
   "cell_type": "code",
   "execution_count": null,
   "id": "ad4562b8",
   "metadata": {},
   "outputs": [],
   "source": [
    "# Create the OneHotEncoder instance\n",
    "enc = OneHotEncoder(sparse=False)\n",
    "\n",
    "# Fit the encoder and produce encoded DataFrame\n",
    "B_stance_df = pd.DataFrame(enc.fit_transform(lw_df.B_Stance.values.reshape(-1,1)))\n",
    "\n",
    "# Rename encoded columns\n",
    "B_stance_df.columns = enc.get_feature_names(['B_Stance'])\n",
    "B_stance_df"
   ]
  },
  {
   "cell_type": "code",
   "execution_count": null,
   "id": "c4b3f88b",
   "metadata": {},
   "outputs": [],
   "source": [
    "# Create the OneHotEncoder instance\n",
    "enc = OneHotEncoder(sparse=False)\n",
    "\n",
    "# Fit the encoder and produce encoded DataFrame\n",
    "winner_df2 = pd.DataFrame(enc.fit_transform(lw_df.Winner.values.reshape(-1,1)))\n",
    "\n",
    "# Rename encoded columns\n",
    "winner_df2.columns = enc.get_feature_names(['Winner'])\n",
    "winner_df2"
   ]
  },
  {
   "cell_type": "code",
   "execution_count": null,
   "id": "b892e4e9",
   "metadata": {},
   "outputs": [],
   "source": [
    "#Merge experiment\n",
    "lw_merged_df = pd.merge(lw_df, encode_df2, how = \"left\", left_index=True, right_index=True)\n",
    "lw_merged_df2 = pd.merge(lw_merged_df, B_stance_df, how = \"left\", left_index=True, right_index=True)\n",
    "lw_merged_df3 = pd.merge(lw_merged_df2, winner_df2, how = \"left\", left_index=True, right_index=True)\n",
    "lw_merged_df3"
   ]
  },
  {
   "cell_type": "code",
   "execution_count": null,
   "id": "06db2de6",
   "metadata": {},
   "outputs": [],
   "source": [
    "#Drop original rows for Winner / Rstance / Bstance\n",
    "lw_merged_df3 = lw_merged_df3.drop([\"Winner\"], axis = 1)\n",
    "lw_merged_df3 = lw_merged_df3.drop([\"R_Stance\"], axis = 1)\n",
    "lw_merged_df3 = lw_merged_df3.drop([\"B_Stance\"], axis = 1)\n",
    "lw_merged_df3"
   ]
  },
  {
   "cell_type": "code",
   "execution_count": null,
   "id": "70e100ab",
   "metadata": {},
   "outputs": [],
   "source": [
    "#Get rid of NaNs & drop columns that are not needed\n",
    "lw_merged_df3.dropna(inplace=True)\n",
    "lw_merged_df3 = lw_merged_df3.drop(['B_avg_KD','B_avg_opp_KD','B_avg_SIG_STR_pct','B_avg_opp_SIG_STR_pct','B_avg_TD_pct','B_avg_opp_TD_pct','B_avg_SUB_ATT','B_avg_opp_SUB_ATT','B_avg_REV','B_avg_opp_REV','B_avg_SIG_STR_att','B_avg_SIG_STR_landed','B_avg_opp_SIG_STR_att','B_avg_opp_SIG_STR_landed','B_avg_TOTAL_STR_att','B_avg_TOTAL_STR_landed','B_avg_opp_TOTAL_STR_att','B_avg_opp_TOTAL_STR_landed','B_avg_TD_att','B_avg_TD_landed','B_avg_opp_TD_att','B_avg_opp_TD_landed','B_avg_HEAD_att','B_avg_HEAD_landed','B_avg_opp_HEAD_att','B_avg_opp_HEAD_landed','B_avg_BODY_att','B_avg_BODY_landed','B_avg_opp_BODY_att','B_avg_opp_BODY_landed','B_avg_LEG_att','B_avg_LEG_landed','B_avg_opp_LEG_att','B_avg_opp_LEG_landed','B_avg_DISTANCE_att','B_avg_DISTANCE_landed','B_avg_opp_DISTANCE_att','B_avg_opp_DISTANCE_landed','B_avg_CLINCH_att','B_avg_CLINCH_landed','B_avg_opp_CLINCH_att','B_avg_opp_CLINCH_landed','B_avg_GROUND_att','B_avg_GROUND_landed','B_avg_opp_GROUND_att','B_avg_opp_GROUND_landed','B_avg_CTRL_time(seconds)','B_avg_opp_CTRL_time(seconds)','R_avg_KD','R_avg_opp_KD','R_avg_SIG_STR_pct','R_avg_opp_SIG_STR_pct','R_avg_TD_pct','R_avg_opp_TD_pct','R_avg_SUB_ATT','R_avg_opp_SUB_ATT','R_avg_REV','R_avg_opp_REV','R_avg_SIG_STR_att','R_avg_SIG_STR_landed','R_avg_opp_SIG_STR_att','R_avg_opp_SIG_STR_landed','R_avg_TOTAL_STR_att','R_avg_TOTAL_STR_landed','R_avg_opp_TOTAL_STR_att','R_avg_opp_TOTAL_STR_landed','R_avg_TD_att','R_avg_TD_landed','R_avg_opp_TD_att','R_avg_opp_TD_landed','R_avg_HEAD_att','R_avg_HEAD_landed','R_avg_opp_HEAD_att','R_avg_opp_HEAD_landed','R_avg_BODY_att','R_avg_BODY_landed','R_avg_opp_BODY_att','R_avg_opp_BODY_landed','R_avg_LEG_att','R_avg_LEG_landed','R_avg_opp_LEG_att','R_avg_opp_LEG_landed','R_avg_DISTANCE_att','R_avg_DISTANCE_landed','R_avg_opp_DISTANCE_att','R_avg_opp_DISTANCE_landed','R_avg_CLINCH_att','R_avg_CLINCH_landed','R_avg_opp_CLINCH_att','R_avg_opp_CLINCH_landed','R_avg_GROUND_att','R_avg_GROUND_landed','R_avg_opp_GROUND_att','R_avg_opp_GROUND_landed','R_avg_CTRL_time(seconds)','R_avg_opp_CTRL_time(seconds)'], axis = 1)\n",
    "lw_merged_df3"
   ]
  },
  {
   "cell_type": "code",
   "execution_count": null,
   "id": "1fc4b435",
   "metadata": {},
   "outputs": [],
   "source": [
    "#Create the CSV\n",
    "lw_merged_df3.to_csv(\"all_lightweights.csv\")"
   ]
  },
  {
   "cell_type": "code",
   "execution_count": null,
   "id": "f6e79692",
   "metadata": {},
   "outputs": [],
   "source": []
  }
 ],
 "metadata": {
  "kernelspec": {
   "display_name": "PythonData",
   "language": "python",
   "name": "pythondata"
  },
  "language_info": {
   "codemirror_mode": {
    "name": "ipython",
    "version": 3
   },
   "file_extension": ".py",
   "mimetype": "text/x-python",
   "name": "python",
   "nbconvert_exporter": "python",
   "pygments_lexer": "ipython3",
   "version": "3.7.9"
  }
 },
 "nbformat": 4,
 "nbformat_minor": 5
}
