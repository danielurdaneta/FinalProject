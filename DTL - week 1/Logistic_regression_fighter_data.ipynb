{
 "cells": [
  {
   "cell_type": "code",
   "execution_count": null,
   "id": "2bb184ab",
   "metadata": {},
   "outputs": [],
   "source": [
    "import pandas as pd"
   ]
  },
  {
   "cell_type": "code",
   "execution_count": null,
   "id": "72cae2f5",
   "metadata": {},
   "outputs": [],
   "source": [
    "#import dataset\n",
    "fighter_data=pd.read_csv(\"../testrepo_08302021/individual_fighter_clean_data.csv\")\n",
    "fighter_data.head()"
   ]
  },
  {
   "cell_type": "code",
   "execution_count": null,
   "id": "40d15980",
   "metadata": {},
   "outputs": [],
   "source": [
    "fighter_data=fighter_data.drop(['Unnamed: 0'], axis=1)\n",
    "fighter_data.head()"
   ]
  },
  {
   "cell_type": "code",
   "execution_count": null,
   "id": "aaf60b6b",
   "metadata": {},
   "outputs": [],
   "source": [
    "X=fighter_data.drop(['Win'], axis=1)\n",
    "y=fighter_data.Win"
   ]
  },
  {
   "cell_type": "code",
   "execution_count": null,
   "id": "f3d70de4",
   "metadata": {},
   "outputs": [],
   "source": [
    "from sklearn.model_selection import train_test_split\n",
    "\n",
    "X_train, X_test, y_train, y_test = train_test_split(X, \n",
    "                                                    y, \n",
    "                                                    random_state=1, \n",
    "                                                    stratify=y)"
   ]
  },
  {
   "cell_type": "code",
   "execution_count": null,
   "id": "79726662",
   "metadata": {},
   "outputs": [],
   "source": [
    "from sklearn.linear_model import LogisticRegression\n",
    "classifier = LogisticRegression(solver='lbfgs', random_state=1)\n",
    "\n",
    "# Train the data\n",
    "classifier.fit(X_train, y_train)"
   ]
  },
  {
   "cell_type": "code",
   "execution_count": null,
   "id": "35e7e9ee",
   "metadata": {},
   "outputs": [],
   "source": [
    "# Predict outcomes for test data set and save as a pandas DataFrame with the actual y_test data\n",
    "predictions = classifier.predict(X_test)\n",
    "pd.DataFrame({\"Prediction\": predictions, \"Actual\": y_test})"
   ]
  },
  {
   "cell_type": "code",
   "execution_count": null,
   "id": "f5c93b9f",
   "metadata": {},
   "outputs": [],
   "source": [
    "from sklearn.metrics import accuracy_score\n",
    "accuracy_score(y_test, predictions)"
   ]
  },
  {
   "cell_type": "code",
   "execution_count": null,
   "id": "161a135b",
   "metadata": {},
   "outputs": [],
   "source": [
    "fighter_historical=fighter_data.drop(['avg_KD', 'avg_opp_KD', 'avg_SIG_STR_pct', 'avg_opp_SIG_STR_pct',\n",
    "       'avg_TD_pct', 'avg_opp_TD_pct', 'avg_SUB_ATT', 'avg_opp_SUB_ATT',\n",
    "       'avg_REV', 'avg_opp_REV', 'avg_SIG_STR_att', 'avg_SIG_STR_landed',\n",
    "       'avg_opp_SIG_STR_att', 'avg_opp_SIG_STR_landed', 'avg_TOTAL_STR_att',\n",
    "       'avg_TOTAL_STR_landed', 'avg_opp_TOTAL_STR_att',\n",
    "       'avg_opp_TOTAL_STR_landed', 'avg_TD_att', 'avg_TD_landed',\n",
    "       'avg_opp_TD_att', 'avg_opp_TD_landed', 'avg_HEAD_att',\n",
    "       'avg_HEAD_landed', 'avg_opp_HEAD_att', 'avg_opp_HEAD_landed',\n",
    "       'avg_BODY_att', 'avg_BODY_landed', 'avg_opp_BODY_att',\n",
    "       'avg_opp_BODY_landed', 'avg_LEG_att', 'avg_LEG_landed',\n",
    "       'avg_opp_LEG_att', 'avg_opp_LEG_landed', 'avg_DISTANCE_att',\n",
    "       'avg_DISTANCE_landed', 'avg_opp_DISTANCE_att',\n",
    "       'avg_opp_DISTANCE_landed', 'avg_CLINCH_att', 'avg_CLINCH_landed',\n",
    "       'avg_opp_CLINCH_att', 'avg_opp_CLINCH_landed', 'avg_GROUND_att',\n",
    "       'avg_GROUND_landed', 'avg_opp_GROUND_att', 'avg_opp_GROUND_landed',\n",
    "       'avg_CTRL_time(seconds)', 'avg_opp_CTRL_time(seconds)'], axis=1)\n",
    "fighter_historical"
   ]
  },
  {
   "cell_type": "code",
   "execution_count": null,
   "id": "213cc75f",
   "metadata": {},
   "outputs": [],
   "source": [
    "X_2=fighter_historical.drop(['Win'], axis=1)\n",
    "y_2=fighter_historical.Win"
   ]
  },
  {
   "cell_type": "code",
   "execution_count": null,
   "id": "8e3e5df2",
   "metadata": {},
   "outputs": [],
   "source": [
    "from sklearn.model_selection import train_test_split\n",
    "\n",
    "X_train, X_test, y_train, y_test = train_test_split(X_2, \n",
    "                                                    y_2, \n",
    "                                                    random_state=1, \n",
    "                                                    stratify=y_2)"
   ]
  },
  {
   "cell_type": "code",
   "execution_count": null,
   "id": "4e3a3640",
   "metadata": {},
   "outputs": [],
   "source": [
    "from sklearn.linear_model import LogisticRegression\n",
    "classifier = LogisticRegression(solver='lbfgs', random_state=1)\n",
    "\n",
    "# Train the data\n",
    "classifier.fit(X_train, y_train)"
   ]
  },
  {
   "cell_type": "code",
   "execution_count": null,
   "id": "2a4668d4",
   "metadata": {},
   "outputs": [],
   "source": [
    "# Predict outcomes for test data set and save as a pandas DataFrame with the actual y_test data\n",
    "predictions = classifier.predict(X_test)\n",
    "pd.DataFrame({\"Prediction\": predictions, \"Actual\": y_test})"
   ]
  },
  {
   "cell_type": "code",
   "execution_count": null,
   "id": "667556b2",
   "metadata": {},
   "outputs": [],
   "source": [
    "from sklearn.metrics import accuracy_score\n",
    "accuracy_score(y_test, predictions)"
   ]
  }
 ],
 "metadata": {
  "kernelspec": {
   "display_name": "mlenv",
   "language": "python",
   "name": "mlenv"
  },
  "language_info": {
   "codemirror_mode": {
    "name": "ipython",
    "version": 3
   },
   "file_extension": ".py",
   "mimetype": "text/x-python",
   "name": "python",
   "nbconvert_exporter": "python",
   "pygments_lexer": "ipython3",
   "version": "3.7.10"
  }
 },
 "nbformat": 4,
 "nbformat_minor": 5
}
