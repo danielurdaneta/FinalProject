{
 "cells": [
  {
   "cell_type": "code",
   "execution_count": null,
   "id": "bd6a731a",
   "metadata": {},
   "outputs": [],
   "source": [
    "from path import Path\n",
    "import numpy as np\n",
    "import pandas as pd\n",
    "from sklearn.svm import SVC\n",
    "from sklearn.metrics import accuracy_score, confusion_matrix, classification_report"
   ]
  },
  {
   "cell_type": "code",
   "execution_count": null,
   "id": "a55a93e5",
   "metadata": {},
   "outputs": [],
   "source": [
    "# Loading data\n",
    "file_path = Path(\"WW_clean_data_labelEncoded_Winner.csv\")\n",
    "ww_df = pd.read_csv(file_path)\n",
    "ww_df=ww_df.drop(['Unnamed: 0', 'date'], axis=1)\n",
    "ww_df.head()"
   ]
  },
  {
   "cell_type": "code",
   "execution_count": null,
   "id": "d45a3098",
   "metadata": {},
   "outputs": [],
   "source": [
    "# Define features and targets\n",
    "X=ww_df.drop(['Winner', 'R_fighter', 'B_fighter'], axis=1)\n",
    "y=ww_df.Winner"
   ]
  },
  {
   "cell_type": "code",
   "execution_count": null,
   "id": "d2e6dd90",
   "metadata": {},
   "outputs": [],
   "source": [
    "# Use the train_test_split function to create training and testing subsets\n",
    "from sklearn.model_selection import train_test_split\n",
    "\n",
    "X_train, X_test, y_train, y_test = train_test_split(X, \n",
    "                                                    y, \n",
    "                                                    random_state=1, \n",
    "                                                    stratify=y)"
   ]
  },
  {
   "cell_type": "code",
   "execution_count": null,
   "id": "ea8b69d6",
   "metadata": {},
   "outputs": [],
   "source": [
    "# Instantiate a linear SVM model\n",
    "model = SVC(kernel='linear')\n",
    "#kernel=identifies the orientation of the hyperplane"
   ]
  },
  {
   "cell_type": "code",
   "execution_count": null,
   "id": "b7d5c3fc",
   "metadata": {},
   "outputs": [],
   "source": [
    "# Fit the data\n",
    "model.fit(X_train, y_train)"
   ]
  },
  {
   "cell_type": "code",
   "execution_count": null,
   "id": "ec672371",
   "metadata": {},
   "outputs": [],
   "source": [
    "# Make predictions using the test data\n",
    "y_pred = model.predict(X_test)\n",
    "results = pd.DataFrame({\n",
    "    \"Prediction\": y_pred, \n",
    "    \"Actual\": y_test\n",
    "}).reset_index(drop=True)\n",
    "results"
   ]
  },
  {
   "cell_type": "code",
   "execution_count": null,
   "id": "b42f3d9d",
   "metadata": {},
   "outputs": [],
   "source": [
    "accuracy_score(y_test, y_pred)"
   ]
  },
  {
   "cell_type": "markdown",
   "id": "4a565ecd",
   "metadata": {},
   "source": [
    "accuracy score = 0.5862068965517241"
   ]
  },
  {
   "cell_type": "code",
   "execution_count": null,
   "id": "0f8aa613",
   "metadata": {},
   "outputs": [],
   "source": [
    "confusion_matrix(y_test, y_pred)"
   ]
  },
  {
   "cell_type": "code",
   "execution_count": null,
   "id": "49afd7e6",
   "metadata": {},
   "outputs": [],
   "source": [
    "print(classification_report(y_test, y_pred))"
   ]
  }
 ],
 "metadata": {
  "kernelspec": {
   "display_name": "mlenv",
   "language": "python",
   "name": "mlenv"
  },
  "language_info": {
   "codemirror_mode": {
    "name": "ipython",
    "version": 3
   },
   "file_extension": ".py",
   "mimetype": "text/x-python",
   "name": "python",
   "nbconvert_exporter": "python",
   "pygments_lexer": "ipython3",
   "version": "3.7.10"
  }
 },
 "nbformat": 4,
 "nbformat_minor": 5
}
