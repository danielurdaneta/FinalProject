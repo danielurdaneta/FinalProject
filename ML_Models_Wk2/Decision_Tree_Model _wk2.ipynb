{
 "cells": [
  {
   "cell_type": "code",
   "execution_count": null,
   "id": "93dd3858",
   "metadata": {},
   "outputs": [],
   "source": [
    "# Initial imports\n",
    "import pandas as pd\n",
    "from path import Path\n",
    "from sklearn import tree\n",
    "from sklearn.preprocessing import StandardScaler\n",
    "from sklearn.model_selection import train_test_split\n",
    "from sklearn.metrics import confusion_matrix, accuracy_score, classification_report\n",
    "# from config import db_password"
   ]
  },
  {
   "cell_type": "code",
   "execution_count": null,
   "id": "e1ed3d8f",
   "metadata": {},
   "outputs": [],
   "source": [
    "# Loading data\n",
    "file_path = Path(\"WW_clean_data_labelEncoded_Winner.csv\")\n",
    "ww_df = pd.read_csv(file_path)\n",
    "ww_df.head()"
   ]
  },
  {
   "cell_type": "code",
   "execution_count": null,
   "id": "7affcb3a",
   "metadata": {},
   "outputs": [],
   "source": [
    "ww_df=ww_df.drop(['date'], axis=1)\n",
    "ww_df.head()"
   ]
  },
  {
   "cell_type": "code",
   "execution_count": null,
   "id": "2e2823ac",
   "metadata": {},
   "outputs": [],
   "source": [
    "# Define features and targets\n",
    "X=ww_df.drop(['Winner', 'R_fighter', 'B_fighter'], axis=1)\n",
    "y=ww_df.Winner.values.reshape(-1, 1)"
   ]
  },
  {
   "cell_type": "code",
   "execution_count": null,
   "id": "6b5de684",
   "metadata": {},
   "outputs": [],
   "source": [
    "#Splitting into Train(80%) and Test(20%) sets\n",
    "X_train, X_test, y_train, y_test = train_test_split(X, y, random_state=78, train_size=0.80)"
   ]
  },
  {
   "cell_type": "code",
   "execution_count": null,
   "id": "9f97f96e",
   "metadata": {},
   "outputs": [],
   "source": [
    "# Creating StandardScaler instance\n",
    "scaler = StandardScaler()\n",
    "\n",
    "# Fitting Standard Scaller\n",
    "X_scaler = scaler.fit(X_train)\n",
    "\n",
    "# Scaling data\n",
    "X_train_scaled = X_scaler.transform(X_train)\n",
    "X_test_scaled = X_scaler.transform(X_test)"
   ]
  },
  {
   "cell_type": "code",
   "execution_count": null,
   "id": "e3d0ccb6",
   "metadata": {},
   "outputs": [],
   "source": [
    "# Creating the decision tree classifier instance\n",
    "model = tree.DecisionTreeClassifier()"
   ]
  },
  {
   "cell_type": "code",
   "execution_count": null,
   "id": "58be10e2",
   "metadata": {},
   "outputs": [],
   "source": [
    "# Fitting the model\n",
    "model = model.fit(X_train_scaled, y_train)"
   ]
  },
  {
   "cell_type": "code",
   "execution_count": null,
   "id": "406113b8",
   "metadata": {},
   "outputs": [],
   "source": [
    "# Making predictions using the testing data\n",
    "predictions = model.predict(X_test_scaled)"
   ]
  },
  {
   "cell_type": "code",
   "execution_count": null,
   "id": "955fc7c3",
   "metadata": {},
   "outputs": [],
   "source": [
    "# Calculating the accuracy score\n",
    "cm = confusion_matrix(y_test, predictions)\n",
    "acc_score = accuracy_score(y_test, predictions)\n",
    "\n",
    "print(f\"Accuracy Score : {acc_score}\")\n",
    "print(classification_report(y_test, predictions))"
   ]
  },
  {
   "cell_type": "markdown",
   "id": "94b55d4e",
   "metadata": {},
   "source": [
    "Accuracy Score : 0.4782608695652174\n",
    "\n",
    "\n",
    "\n",
    "              precision    recall  f1-score   support\n",
    "\n",
    "           0       0.43      0.43      0.43         7\n",
    "           1       0.00      0.00      0.00         1\n",
    "           2       0.62      0.53      0.57        15\n",
    "\n",
    "    accuracy                           0.48        23\n",
    "   macro avg       0.35      0.32      0.33        23\n",
    "weighted avg       0.53      0.48      0.50        23"
   ]
  },
  {
   "cell_type": "code",
   "execution_count": null,
   "id": "5eb2f50f",
   "metadata": {},
   "outputs": [],
   "source": []
  }
 ],
 "metadata": {
  "kernelspec": {
   "display_name": "mlenv",
   "language": "python",
   "name": "mlenv"
  },
  "language_info": {
   "codemirror_mode": {
    "name": "ipython",
    "version": 3
   },
   "file_extension": ".py",
   "mimetype": "text/x-python",
   "name": "python",
   "nbconvert_exporter": "python",
   "pygments_lexer": "ipython3",
   "version": "3.7.10"
  }
 },
 "nbformat": 4,
 "nbformat_minor": 5
}
