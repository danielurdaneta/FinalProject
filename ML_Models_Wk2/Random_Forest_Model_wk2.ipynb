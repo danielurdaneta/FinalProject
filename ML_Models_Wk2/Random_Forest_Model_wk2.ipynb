{
 "cells": [
  {
   "cell_type": "code",
   "execution_count": null,
   "id": "37bd6f0d",
   "metadata": {},
   "outputs": [],
   "source": [
    "# Initial imports\n",
    "import pandas as pd\n",
    "from path import Path\n",
    "from sklearn.ensemble import RandomForestClassifier\n",
    "from sklearn.preprocessing import StandardScaler\n",
    "from sklearn.model_selection import train_test_split\n",
    "from sklearn.metrics import confusion_matrix, accuracy_score, classification_report\n",
    "from sqlalchemy import create_engine\n",
    "# from config import db_password"
   ]
  },
  {
   "cell_type": "code",
   "execution_count": null,
   "id": "59f45f8c",
   "metadata": {},
   "outputs": [],
   "source": [
    "# Loading data\n",
    "file_path = Path(\"WW_clean_data_labelEncoded_Winner.csv\")\n",
    "ww_df = pd.read_csv(file_path)\n",
    "ww_df.head()"
   ]
  },
  {
   "cell_type": "code",
   "execution_count": null,
   "id": "20c227c8",
   "metadata": {},
   "outputs": [],
   "source": [
    "ww_df=ww_df.drop(['Unnamed: 0', 'date'], axis=1)\n",
    "ww_df.head()"
   ]
  },
  {
   "cell_type": "code",
   "execution_count": null,
   "id": "91045a14",
   "metadata": {},
   "outputs": [],
   "source": [
    "# Define features and targets\n",
    "X=ww_df.drop(['Winner', 'R_fighter', 'B_fighter'], axis=1)\n",
    "y=ww_df.Winner.values.reshape(-1, 1)"
   ]
  },
  {
   "cell_type": "code",
   "execution_count": null,
   "id": "d378eb80",
   "metadata": {},
   "outputs": [],
   "source": [
    "#Splitting into Train(80%) and Test(20%) sets\n",
    "X_train, X_test, y_train, y_test = train_test_split(X, y, random_state=78, train_size=0.80)"
   ]
  },
  {
   "cell_type": "code",
   "execution_count": null,
   "id": "b92c38d3",
   "metadata": {},
   "outputs": [],
   "source": [
    "# Creating a StandardScaler instance.\n",
    "scaler = StandardScaler()\n",
    "# Fitting the Standard Scaler with the training data.\n",
    "X_scaler = scaler.fit(X_train)\n",
    "\n",
    "# Scaling the data.\n",
    "X_train_scaled = X_scaler.transform(X_train)\n",
    "X_test_scaled = X_scaler.transform(X_test)"
   ]
  },
  {
   "cell_type": "code",
   "execution_count": null,
   "id": "6ab86f67",
   "metadata": {},
   "outputs": [],
   "source": [
    "# Create a random forest classifier.\n",
    "#n_estimator should be btwn 64 and 128 random forests\n",
    "rf_model = RandomForestClassifier(n_estimators=128, random_state=78) "
   ]
  },
  {
   "cell_type": "code",
   "execution_count": null,
   "id": "acbedea0",
   "metadata": {},
   "outputs": [],
   "source": [
    "# Fitting the model\n",
    "rf_model = rf_model.fit(X_train_scaled, y_train)"
   ]
  },
  {
   "cell_type": "code",
   "execution_count": null,
   "id": "2c7e39c5",
   "metadata": {},
   "outputs": [],
   "source": [
    "# Making predictions using the testing data.\n",
    "predictions = rf_model.predict(X_test_scaled)"
   ]
  },
  {
   "cell_type": "code",
   "execution_count": null,
   "id": "de21ae77",
   "metadata": {},
   "outputs": [],
   "source": [
    "# Calculating the confusion matrix.\n",
    "cm = confusion_matrix(y_test, predictions)\n",
    "\n",
    "# Create a DataFrame from the confusion matrix.\n",
    "cm_df = pd.DataFrame(\n",
    "    cm, index=[\"Actual 1\", \"Actual 2\", \"Actual 3\"], columns=[\"Predicted 1\", \"Predicted 2\", \"Predicted 3\"])\n",
    "\n",
    "cm_df"
   ]
  },
  {
   "cell_type": "code",
   "execution_count": null,
   "id": "eea5883a",
   "metadata": {},
   "outputs": [],
   "source": [
    "acc_score = accuracy_score(y_test, predictions)\n",
    "\n",
    "print(f\"Accuracy Score : {acc_score}\")"
   ]
  },
  {
   "cell_type": "code",
   "execution_count": null,
   "id": "dc9d297c",
   "metadata": {},
   "outputs": [],
   "source": [
    "print(classification_report(y_test, predictions))"
   ]
  },
  {
   "cell_type": "markdown",
   "id": "f035d4d1",
   "metadata": {},
   "source": [
    "Accuracy Score : 0.43478260869565216\n",
    "    \n",
    "precision    recall  f1-score   support\n",
    "\n",
    "           0       0.14      0.14      0.14         7\n",
    "           1       0.00      0.00      0.00         1\n",
    "           2       0.56      0.60      0.58        15\n",
    "\n",
    "    accuracy                           0.43        23\n",
    "   macro avg       0.24      0.25      0.24        23\n",
    "weighted avg       0.41      0.43      0.42        23"
   ]
  },
  {
   "cell_type": "code",
   "execution_count": null,
   "id": "3c2cca84",
   "metadata": {},
   "outputs": [],
   "source": []
  }
 ],
 "metadata": {
  "kernelspec": {
   "display_name": "mlenv",
   "language": "python",
   "name": "mlenv"
  },
  "language_info": {
   "codemirror_mode": {
    "name": "ipython",
    "version": 3
   },
   "file_extension": ".py",
   "mimetype": "text/x-python",
   "name": "python",
   "nbconvert_exporter": "python",
   "pygments_lexer": "ipython3",
   "version": "3.7.10"
  }
 },
 "nbformat": 4,
 "nbformat_minor": 5
}
